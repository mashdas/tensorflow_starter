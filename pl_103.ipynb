{
  "nbformat": 4,
  "nbformat_minor": 0,
  "metadata": {
    "colab": {
      "name": "pl_103.ipynb",
      "provenance": [],
      "collapsed_sections": [],
      "authorship_tag": "ABX9TyNZTdjSwwOpx5e3Ln5ClXo/"
    },
    "kernelspec": {
      "name": "python3",
      "display_name": "Python 3"
    },
    "language_info": {
      "name": "python"
    }
  },
  "cells": [
    {
      "cell_type": "code",
      "metadata": {
        "colab": {
          "base_uri": "https://localhost:8080/"
        },
        "id": "_Vy9v-Un903A",
        "outputId": "6213c737-b925-40e4-ba42-ee820cb7f570"
      },
      "source": [
        "from sklearn.datasets import fetch_openml\n",
        "mnist=fetch_openml('mnist_784',version=1)\n",
        "mnist.keys()"
      ],
      "execution_count": null,
      "outputs": [
        {
          "output_type": "execute_result",
          "data": {
            "text/plain": [
              "dict_keys(['data', 'target', 'frame', 'feature_names', 'target_names', 'DESCR', 'details', 'categories', 'url'])"
            ]
          },
          "metadata": {
            "tags": []
          },
          "execution_count": 5
        }
      ]
    },
    {
      "cell_type": "code",
      "metadata": {
        "colab": {
          "base_uri": "https://localhost:8080/"
        },
        "id": "cBHvzN53_WLa",
        "outputId": "483a588e-fce8-4c8f-af3b-2aaadb6ddcfe"
      },
      "source": [
        "X,y=mnist['data'],mnist[\"target\"]\n",
        "X.shape,y.shape"
      ],
      "execution_count": null,
      "outputs": [
        {
          "output_type": "execute_result",
          "data": {
            "text/plain": [
              "((70000, 784), (70000,))"
            ]
          },
          "metadata": {
            "tags": []
          },
          "execution_count": 6
        }
      ]
    },
    {
      "cell_type": "code",
      "metadata": {
        "colab": {
          "base_uri": "https://localhost:8080/",
          "height": 247
        },
        "id": "pErL9EaQ_w6u",
        "outputId": "b80dc028-fbc1-43d2-a1cd-3623af4af0fb"
      },
      "source": [
        "##Let's check them instances\n",
        "import matplotlib as mpl\n",
        "import matplotlib.pyplot as plt\n",
        "\n",
        "some_digit=X[0]\n",
        "some_digit_image=some_digit.reshape(28,28)\n",
        "\n",
        "plt.imshow(some_digit_image,cmap=mpl.cm.binary,interpolation=\"nearest\")\n",
        "plt.axis(\"off\")\n",
        "plt.show()"
      ],
      "execution_count": null,
      "outputs": [
        {
          "output_type": "display_data",
          "data": {
            "image/png": "[encoded data removed]",
            "text/plain": [
              "<Figure size 432x288 with 1 Axes>"
            ]
          },
          "metadata": {
            "tags": [],
            "needs_background": "light"
          }
        }
      ]
    },
    {
      "cell_type": "code",
      "metadata": {
        "colab": {
          "base_uri": "https://localhost:8080/",
          "height": 35
        },
        "id": "QExUuy_AAU02",
        "outputId": "1d1161db-fef9-4951-c8d9-35e79cd01dae"
      },
      "source": [
        "y[0]"
      ],
      "execution_count": null,
      "outputs": [
        {
          "output_type": "execute_result",
          "data": {
            "application/vnd.google.colaboratory.intrinsic+json": {
              "type": "string"
            },
            "text/plain": [
              "'5'"
            ]
          },
          "metadata": {
            "tags": []
          },
          "execution_count": 9
        }
      ]
    },
    {
      "cell_type": "code",
      "metadata": {
        "id": "p9G3ALsRAbBu"
      },
      "source": [
        "##Converting tragets to nums\n",
        "import numpy as np\n",
        "\n",
        "y=y.astype(np.uint8)\n",
        "\n",
        "X_train,X_test,y_train,y_test=X[:60000],X[60000:],y[:60000],y[60000:]"
      ],
      "execution_count": null,
      "outputs": []
    },
    {
      "cell_type": "code",
      "metadata": {
        "id": "tEP-ylUkCdP2"
      },
      "source": [
        "##Training a binary classifer..only 5 detector\n",
        "\n",
        "y_train_5=(y_train==5)\n",
        "y_test_5=y_test==5"
      ],
      "execution_count": null,
      "outputs": []
    },
    {
      "cell_type": "code",
      "metadata": {
        "colab": {
          "base_uri": "https://localhost:8080/"
        },
        "id": "Qm16f_CqCoyv",
        "outputId": "d71f12a3-ad93-4b48-edb3-1fc25952c30d"
      },
      "source": [
        "y_test_5[0]"
      ],
      "execution_count": null,
      "outputs": [
        {
          "output_type": "execute_result",
          "data": {
            "text/plain": [
              "True"
            ]
          },
          "metadata": {
            "tags": []
          },
          "execution_count": 13
        }
      ]
    },
    {
      "cell_type": "code",
      "metadata": {
        "colab": {
          "base_uri": "https://localhost:8080/"
        },
        "id": "Y-ZZViNrC0lu",
        "outputId": "9904bf59-73ca-4e25-b9eb-fdda6c57ecca"
      },
      "source": [
        "##NOTE....SGD is capable of handling large datasets as it handles training instances independently,one at a time..which makes it suitable for online learning\n",
        "\n",
        "from sklearn.linear_model import SGDClassifier\n",
        "\n",
        "sgd_clf=SGDClassifier(random_state=42)\n",
        "sgd_clf.fit(X_train,y_train_5)\n",
        "\n",
        "sgd_clf.predict([some_digit])"
      ],
      "execution_count": null,
      "outputs": [
        {
          "output_type": "execute_result",
          "data": {
            "text/plain": [
              "array([ True])"
            ]
          },
          "metadata": {
            "tags": []
          },
          "execution_count": 14
        }
      ]
    },
    {
      "cell_type": "code",
      "metadata": {
        "colab": {
          "base_uri": "https://localhost:8080/"
        },
        "id": "O7zKaCofEHfO",
        "outputId": "bfbf57d2-b2e3-43cc-f013-42d9695dc4d5"
      },
      "source": [
        "##Accuracy using Cross validation\n",
        "\n",
        "from sklearn.model_selection import StratifiedKFold\n",
        "\n",
        "from sklearn.base import clone\n",
        "\n",
        "sk_count=0\n",
        "\n",
        "skfolds=StratifiedKFold(n_splits=5,random_state=42)\n",
        "\n",
        "for train_index,test_index in skfolds.split(X_train,y_train_5):\n",
        "  clone_clf=clone(sgd_clf)\n",
        "  print(\"TRAIN_INDEX:::\",train_index)\n",
        "  X_train_folds=X_train[train_index]\n",
        "  y_train_folds=y_train_5[train_index]\n",
        "  X_test_fold=X_train[test_index]\n",
        "  y_test_fold=y_train_5[test_index]\n",
        "\n",
        "  clone_clf.fit(X_train_folds,y_train_folds)\n",
        "\n",
        "  y_pred=clone_clf.predict(X_test_fold)\n",
        "  n_correct=sum(y_pred==y_test_fold)\n",
        "  print(n_correct/len(y_pred))\n",
        "  print(\"proportions:\",len(X_train_folds)/len(X_train))"
      ],
      "execution_count": null,
      "outputs": [
        {
          "output_type": "stream",
          "text": [
            "/usr/local/lib/python3.7/dist-packages/sklearn/model_selection/_split.py:296: FutureWarning: Setting a random_state has no effect since shuffle is False. This will raise an error in 0.24. You should leave random_state to its default (None), or set shuffle=True.\n",
            "  FutureWarning\n"
          ],
          "name": "stderr"
        },
        {
          "output_type": "stream",
          "text": [
            "TRAIN_INDEX::: [11959 11960 11961 ... 59997 59998 59999]\n",
            "0.9546666666666667\n",
            "proportions: 0.8\n",
            "TRAIN_INDEX::: [    0     1     2 ... 59997 59998 59999]\n",
            "0.96975\n",
            "proportions: 0.8\n",
            "TRAIN_INDEX::: [    0     1     2 ... 59997 59998 59999]\n",
            "0.9635\n",
            "proportions: 0.8\n",
            "TRAIN_INDEX::: [    0     1     2 ... 59997 59998 59999]\n",
            "0.9653333333333334\n",
            "proportions: 0.8\n",
            "TRAIN_INDEX::: [    0     1     2 ... 48134 48143 48161]\n",
            "0.9484166666666667\n",
            "proportions: 0.8\n"
          ],
          "name": "stdout"
        }
      ]
    },
    {
      "cell_type": "code",
      "metadata": {
        "colab": {
          "base_uri": "https://localhost:8080/"
        },
        "id": "6q-sxvfFTuBw",
        "outputId": "00be5e59-1084-46b5-b4d2-932dec3123f8"
      },
      "source": [
        "##Let's use cross_val_score to evaluate the sgdclassidier using the k-fold cross-validation\n",
        "from sklearn.model_selection import cross_val_score\n",
        "cross_val_score(sgd_clf,X_train,y_train_5,cv=5,scoring=\"accuracy\")"
      ],
      "execution_count": null,
      "outputs": [
        {
          "output_type": "execute_result",
          "data": {
            "text/plain": [
              "array([0.95466667, 0.96975   , 0.9635    , 0.96533333, 0.94841667])"
            ]
          },
          "metadata": {
            "tags": []
          },
          "execution_count": 18
        }
      ]
    },
    {
      "cell_type": "code",
      "metadata": {
        "id": "ZSEsiGGeW_lf"
      },
      "source": [
        "##This does not paint the full picture\n",
        "\n",
        "##let's create a dumb classifier that predicts everything as not 5\n",
        "\n",
        "from sklearn.base import BaseEstimator\n",
        "\n",
        "class Never5Classifier(BaseEstimator):\n",
        "  def fit(self,X,y=None):\n",
        "    pass\n",
        "  def predict(self,X):\n",
        "    return np.zeros((len(X),1),dtype=bool)  "
      ],
      "execution_count": null,
      "outputs": []
    },
    {
      "cell_type": "code",
      "metadata": {
        "colab": {
          "base_uri": "https://localhost:8080/"
        },
        "id": "jUug6BIdXxOG",
        "outputId": "28eea033-c808-4179-bcf3-00aa75d7a605"
      },
      "source": [
        "never_5_clf=Never5Classifier()\n",
        "cross_val_score(never_5_clf,X_train,y_train_5,cv=5,scoring=\"accuracy\")"
      ],
      "execution_count": null,
      "outputs": [
        {
          "output_type": "execute_result",
          "data": {
            "text/plain": [
              "array([0.91266667, 0.90866667, 0.9095    , 0.90883333, 0.90858333])"
            ]
          },
          "metadata": {
            "tags": []
          },
          "execution_count": 20
        }
      ]
    },
    {
      "cell_type": "code",
      "metadata": {
        "id": "22bexFcUYKqF"
      },
      "source": [
        "##Athough it looks good on paper..but this sucks for obvious reasons...one beiong that 10 percent of the data is \"5\"..and misclassifying them brings the model accuracy only \n",
        "##to 90.5 percent on an average"
      ],
      "execution_count": null,
      "outputs": []
    },
    {
      "cell_type": "code",
      "metadata": {
        "id": "Uc2ZmbFTaGkw"
      },
      "source": [
        "##Here come a better metric for such skewd datasets\n",
        "##CONFUSION MATRIX"
      ],
      "execution_count": null,
      "outputs": []
    },
    {
      "cell_type": "code",
      "metadata": {
        "id": "GNS0c5BsadR2"
      },
      "source": [
        "from sklearn.model_selection import cross_val_predict##same as cross_val_score but returns predictions made on each test fold instead of scores\n",
        "\n",
        "y_train_pred=cross_val_predict(sgd_clf,X_train,y_train_5,cv=5)"
      ],
      "execution_count": null,
      "outputs": []
    },
    {
      "cell_type": "code",
      "metadata": {
        "colab": {
          "base_uri": "https://localhost:8080/"
        },
        "id": "zuBl_RK1ax8u",
        "outputId": "6a4cdd5f-4ac2-45a4-89a9-c99c70d409c8"
      },
      "source": [
        "y_train_pred"
      ],
      "execution_count": null,
      "outputs": [
        {
          "output_type": "execute_result",
          "data": {
            "text/plain": [
              "array([ True, False, False, ...,  True, False, False])"
            ]
          },
          "metadata": {
            "tags": []
          },
          "execution_count": 25
        }
      ]
    },
    {
      "cell_type": "code",
      "metadata": {
        "colab": {
          "base_uri": "https://localhost:8080/"
        },
        "id": "rkR_WgA4c0jC",
        "outputId": "79908c65-cd6f-46dc-fa15-080d50e30273"
      },
      "source": [
        "from sklearn.metrics import confusion_matrix\n",
        "confusion_matrix(y_train_5,y_train_pred)"
      ],
      "execution_count": null,
      "outputs": [
        {
          "output_type": "execute_result",
          "data": {
            "text/plain": [
              "array([[53115,  1464],\n",
              "       [  916,  4505]])"
            ]
          },
          "metadata": {
            "tags": []
          },
          "execution_count": 26
        }
      ]
    },
    {
      "cell_type": "code",
      "metadata": {
        "colab": {
          "base_uri": "https://localhost:8080/"
        },
        "id": "AuvXYrDWdzAt",
        "outputId": "1edf5179-2184-4f84-b08e-3bc89a6b39e4"
      },
      "source": [
        "##Each row represents an actual class..each column represents a predicted class\n",
        "\n",
        "##Let's now head to precision...Precison=TP/TP+FP\n",
        "##recall=TP/TP+FN\n",
        "\n",
        "from sklearn.metrics import precision_score,recall_score\n",
        "precision_score(y_train_5,y_train_pred)"
      ],
      "execution_count": null,
      "outputs": [
        {
          "output_type": "execute_result",
          "data": {
            "text/plain": [
              "0.7547327860613168"
            ]
          },
          "metadata": {
            "tags": []
          },
          "execution_count": 27
        }
      ]
    },
    {
      "cell_type": "code",
      "metadata": {
        "colab": {
          "base_uri": "https://localhost:8080/"
        },
        "id": "i5lQ6TVLhRCc",
        "outputId": "3821684b-8870-433f-cf83-490bf2021c7c"
      },
      "source": [
        "recall_score(y_train_5,y_train_pred)"
      ],
      "execution_count": null,
      "outputs": [
        {
          "output_type": "execute_result",
          "data": {
            "text/plain": [
              "0.8310274857037447"
            ]
          },
          "metadata": {
            "tags": []
          },
          "execution_count": 28
        }
      ]
    },
    {
      "cell_type": "code",
      "metadata": {
        "colab": {
          "base_uri": "https://localhost:8080/"
        },
        "id": "Pf11FSbuhVId",
        "outputId": "71f4b2fa-70ca-43a9-c8a1-6ba71c7e5c4c"
      },
      "source": [
        "##f1score..combos both precison and recall....F=2PR/P+R\n",
        "from sklearn.metrics import f1_score\n",
        "f1_score(y_train_5,y_train_pred)"
      ],
      "execution_count": null,
      "outputs": [
        {
          "output_type": "execute_result",
          "data": {
            "text/plain": [
              "0.791044776119403"
            ]
          },
          "metadata": {
            "tags": []
          },
          "execution_count": 29
        }
      ]
    },
    {
      "cell_type": "code",
      "metadata": {
        "id": "LJU4yAvVhpbN"
      },
      "source": [
        "##See not that great..okay..but not that great..let's do some precison VS recall ploting\n",
        "\n",
        "y_scores=cross_val_predict(sgd_clf,X_train,y_train_5,cv=3,method=\"decision_function\")##it now returns the decison scores instead of predictions because of the method property\n",
        "\n",
        "from sklearn.metrics import precision_recall_curve\n",
        "\n",
        "precisions,recalls,thresholds=precision_recall_curve(y_train_5,y_scores)\n",
        "\n"
      ],
      "execution_count": null,
      "outputs": []
    },
    {
      "cell_type": "code",
      "metadata": {
        "colab": {
          "base_uri": "https://localhost:8080/",
          "height": 264
        },
        "id": "dc19s-oKm7mY",
        "outputId": "9b3752f9-eeea-4426-f6b1-f66298c83ec3"
      },
      "source": [
        "def plot_precision_vs_recall(precisions,recalls,thresholds):\n",
        "  plt.plot(thresholds,precisions[:-1],\"b--\",label=\"Precision\")\n",
        "  plt.plot(thresholds,recalls[:-1],\"g-\",label=\"Recall\")\n",
        "\n",
        "plot_precision_vs_recall(precisions,recalls,thresholds)\n",
        "\n"
      ],
      "execution_count": null,
      "outputs": [
        {
          "output_type": "display_data",
          "data": {
            "image/png": "[encoded data removed]",
            "text/plain": [
              "<Figure size 432x288 with 1 Axes>"
            ]
          },
          "metadata": {
            "tags": [],
            "needs_background": "light"
          }
        }
      ]
    },
    {
      "cell_type": "code",
      "metadata": {
        "colab": {
          "base_uri": "https://localhost:8080/",
          "height": 264
        },
        "id": "OXHVrPDfpS_c",
        "outputId": "60fbbb5d-cd2c-43af-d4df-5a461d22bfa8"
      },
      "source": [
        "##ROC CURVE.....plots True Positive Rate||(Recall)/Sensitivity VS False Positive Rate||1-specificity\n",
        "\n",
        "from sklearn.metrics import roc_curve\n",
        "\n",
        "fpr,tpr,thresholds=roc_curve(y_train_5,y_scores)\n",
        "\n",
        "\n",
        "def plot_roc_curve(fpr,tpr,label=None):\n",
        "  plt.plot(fpr,tpr,label=None)\n",
        "  plt.plot([0,1],[0,1],'k--')\n",
        "\n",
        "plot_roc_curve(fpr,tpr)\n",
        "plt.show()"
      ],
      "execution_count": null,
      "outputs": [
        {
          "output_type": "display_data",
          "data": {
            "image/png": "[encoded data removed]",
            "text/plain": [
              "<Figure size 432x288 with 1 Axes>"
            ]
          },
          "metadata": {
            "tags": [],
            "needs_background": "light"
          }
        }
      ]
    },
    {
      "cell_type": "code",
      "metadata": {
        "colab": {
          "base_uri": "https://localhost:8080/"
        },
        "id": "cgM3Mcpdq57X",
        "outputId": "df9508f3-0eab-4b8d-8355-73370ba60f35"
      },
      "source": [
        "##We can compare classifiers using roc_auc_score\n",
        "\n",
        "from sklearn.metrics import roc_auc_score\n",
        "roc_auc_score(y_train_5,y_scores)"
      ],
      "execution_count": null,
      "outputs": [
        {
          "output_type": "execute_result",
          "data": {
            "text/plain": [
              "0.9604938554008616"
            ]
          },
          "metadata": {
            "tags": []
          },
          "execution_count": 37
        }
      ]
    },
    {
      "cell_type": "code",
      "metadata": {
        "id": "FnnEaGR5rRsN"
      },
      "source": [
        "##When to user PvsRecall and ROC\n",
        "##PR---WHEN POSITIVE CLASS IS RARE OR WHEN FALSE POSIVITES ARE MORE IMPORTANT THAN FALSE NEGATIVES\n",
        "##ROC----FOR OTHERWISE\n"
      ],
      "execution_count": null,
      "outputs": []
    },
    {
      "cell_type": "code",
      "metadata": {
        "id": "z1LNkUn-sGp9"
      },
      "source": [
        "from sklearn.ensemble import RandomForestClassifier\n",
        "\n",
        "forest_clf=RandomForestClassifier(random_state=42)\n",
        "y_probas_forest=cross_val_predict(forest_clf,X_train,y_train_5,cv=3,method=\"predict_proba\")\n"
      ],
      "execution_count": null,
      "outputs": []
    },
    {
      "cell_type": "code",
      "metadata": {
        "id": "yGYI8OX8svLN"
      },
      "source": [
        "y_scores_forest=y_probas_forest[:,1]"
      ],
      "execution_count": null,
      "outputs": []
    },
    {
      "cell_type": "code",
      "metadata": {
        "id": "C0z6fatNt7Vt"
      },
      "source": [
        "fpr_forest,tpr_forest,thresholds_forest=roc_curve(y_train_5,y_scores_forest)"
      ],
      "execution_count": null,
      "outputs": []
    },
    {
      "cell_type": "code",
      "metadata": {
        "colab": {
          "base_uri": "https://localhost:8080/",
          "height": 264
        },
        "id": "udVMK8NQuf5k",
        "outputId": "df42c7e1-9930-4068-954e-8c9531d3cfb8"
      },
      "source": [
        "plt.plot(fpr,tpr,\"b:\",label=\"SGD\")\n",
        "plot_roc_curve(fpr_forest,tpr_forest,\"Random Forest\")\n",
        "plt.legend(loc=\"lower right\")\n",
        "plt.show()"
      ],
      "execution_count": null,
      "outputs": [
        {
          "output_type": "display_data",
          "data": {
            "image/png": "[encoded data removed]",
            "text/plain": [
              "<Figure size 432x288 with 1 Axes>"
            ]
          },
          "metadata": {
            "tags": [],
            "needs_background": "light"
          }
        }
      ]
    },
    {
      "cell_type": "code",
      "metadata": {
        "colab": {
          "base_uri": "https://localhost:8080/"
        },
        "id": "UrN4mD72u35t",
        "outputId": "14a86ffb-6ada-42ce-c001-0de0d8e55a7e"
      },
      "source": [
        "##Multiclass classification\n",
        "##Srategies-\n",
        "##one vs one(Doesnt scale well with larger datasets..SVM)\n",
        "##one vs all_\n",
        "\n",
        "sgd_clf.fit(X_train,y_train)\n",
        "sgd_clf.predict([some_digit])"
      ],
      "execution_count": null,
      "outputs": [
        {
          "output_type": "execute_result",
          "data": {
            "text/plain": [
              "array([3], dtype=uint8)"
            ]
          },
          "metadata": {
            "tags": []
          },
          "execution_count": 50
        }
      ]
    },
    {
      "cell_type": "code",
      "metadata": {
        "id": "Om-WRWzkyoeE"
      },
      "source": [
        "some_digit_scores=sgd_clf.decision_function([some_digit])"
      ],
      "execution_count": null,
      "outputs": []
    },
    {
      "cell_type": "code",
      "metadata": {
        "colab": {
          "base_uri": "https://localhost:8080/"
        },
        "id": "X-95dobp07m1",
        "outputId": "e9fa4e6e-b0f1-4f66-baf5-fe7a4f09233f"
      },
      "source": [
        "some_digit_scores##scores assigned by the 10 classifiers....this sample was mis classified as 3...as evident from the highest score in index 3"
      ],
      "execution_count": null,
      "outputs": [
        {
          "output_type": "execute_result",
          "data": {
            "text/plain": [
              "array([[-31893.03095419, -34419.69069632,  -9530.63950739,\n",
              "          1823.73154031, -22320.14822878,  -1385.80478895,\n",
              "        -26188.91070951, -16147.51323997,  -4604.35491274,\n",
              "        -12050.767298  ]])"
            ]
          },
          "metadata": {
            "tags": []
          },
          "execution_count": 54
        }
      ]
    },
    {
      "cell_type": "code",
      "metadata": {
        "colab": {
          "base_uri": "https://localhost:8080/"
        },
        "id": "Jr9w0qtt1RSN",
        "outputId": "6ecf89d5-4f1b-4a5c-ab4d-a920693350be"
      },
      "source": [
        "cross_val_score(sgd_clf,X_train,y_train,cv=3,scoring='accuracy')"
      ],
      "execution_count": null,
      "outputs": [
        {
          "output_type": "execute_result",
          "data": {
            "text/plain": [
              "array([0.87365, 0.85835, 0.8689 ])"
            ]
          },
          "metadata": {
            "tags": []
          },
          "execution_count": 55
        }
      ]
    },
    {
      "cell_type": "code",
      "metadata": {
        "colab": {
          "base_uri": "https://localhost:8080/"
        },
        "id": "-RksKZvN118U",
        "outputId": "824272b0-b8ab-495a-b46b-ec787a4ceef7"
      },
      "source": [
        "##Now after scaling them inputs\n",
        "\n",
        "from sklearn.preprocessing import StandardScaler\n",
        "scaler=StandardScaler()\n",
        "X_train_scaled=scaler.fit_transform(X_train.astype(np.float64))\n",
        "cross_val_score(sgd_clf,X_train_scaled,y_train,cv=3,scoring=\"accuracy\")"
      ],
      "execution_count": null,
      "outputs": [
        {
          "output_type": "execute_result",
          "data": {
            "text/plain": [
              "array([0.8983, 0.891 , 0.9018])"
            ]
          },
          "metadata": {
            "tags": []
          },
          "execution_count": 56
        }
      ]
    },
    {
      "cell_type": "code",
      "metadata": {
        "colab": {
          "base_uri": "https://localhost:8080/"
        },
        "id": "rVdeFi004Nd3",
        "outputId": "5d3fa9a8-a944-4935-8708-77c59aefc6c2"
      },
      "source": [
        "##PLOTTING THE CONF MATRIX\n",
        "\n",
        "y_train_pred=cross_val_predict(sgd_clf,X_train_scaled,y_train,cv=3)\n",
        "conf_mx=confusion_matrix(y_train,y_train_pred)\n",
        "conf_mx"
      ],
      "execution_count": null,
      "outputs": [
        {
          "output_type": "execute_result",
          "data": {
            "text/plain": [
              "array([[5577,    0,   22,    5,    8,   43,   36,    6,  225,    1],\n",
              "       [   0, 6400,   37,   24,    4,   44,    4,    7,  212,   10],\n",
              "       [  27,   27, 5220,   92,   73,   27,   67,   36,  378,   11],\n",
              "       [  22,   17,  117, 5227,    2,  203,   27,   40,  403,   73],\n",
              "       [  12,   14,   41,    9, 5182,   12,   34,   27,  347,  164],\n",
              "       [  27,   15,   30,  168,   53, 4444,   75,   14,  535,   60],\n",
              "       [  30,   15,   42,    3,   44,   97, 5552,    3,  131,    1],\n",
              "       [  21,   10,   51,   30,   49,   12,    3, 5684,  195,  210],\n",
              "       [  17,   63,   48,   86,    3,  126,   25,   10, 5429,   44],\n",
              "       [  25,   18,   30,   64,  118,   36,    1,  179,  371, 5107]])"
            ]
          },
          "metadata": {
            "tags": []
          },
          "execution_count": 57
        }
      ]
    },
    {
      "cell_type": "code",
      "metadata": {
        "colab": {
          "base_uri": "https://localhost:8080/",
          "height": 292
        },
        "id": "4p6xQgoj4sCt",
        "outputId": "d4606b9d-601c-4f1a-ba3f-b2bd4b819aac"
      },
      "source": [
        "plt.matshow(conf_mx,cmap=plt.cm.gray)"
      ],
      "execution_count": null,
      "outputs": [
        {
          "output_type": "execute_result",
          "data": {
            "text/plain": [
              "<matplotlib.image.AxesImage at 0x7f95c0b7e650>"
            ]
          },
          "metadata": {
            "tags": []
          },
          "execution_count": 58
        },
        {
          "output_type": "display_data",
          "data": {
            "image/png": "[encoded data removed]",
            "text/plain": [
              "<Figure size 288x288 with 1 Axes>"
            ]
          },
          "metadata": {
            "tags": [],
            "needs_background": "light"
          }
        }
      ]
    },
    {
      "cell_type": "code",
      "metadata": {
        "colab": {
          "base_uri": "https://localhost:8080/",
          "height": 292
        },
        "id": "2y-iEqNo4xRE",
        "outputId": "7065e505-9a46-476c-b080-a8229c7e4502"
      },
      "source": [
        " ##LET's check what kind of error this classifier makes\n",
        " row_sums=conf_mx.sum(axis=1,keepdims=True)\n",
        " norm_conf_mx=conf_mx/row_sums##so that abundant classes don't appear shitty\n",
        "\n",
        " ##Filling the correct ones with zero..cuz we don't wanna find out why they are right\n",
        "\n",
        " np.fill_diagonal(norm_conf_mx,0)\n",
        " plt.matshow(norm_conf_mx,cmap=plt.cm.gray)\n",
        "\n"
      ],
      "execution_count": null,
      "outputs": [
        {
          "output_type": "execute_result",
          "data": {
            "text/plain": [
              "<matplotlib.image.AxesImage at 0x7f95c0b5bf90>"
            ]
          },
          "metadata": {
            "tags": []
          },
          "execution_count": 59
        },
        {
          "output_type": "display_data",
          "data": {
            "image/png": "[encoded data removed]",
            "text/plain": [
              "<Figure size 288x288 with 1 Axes>"
            ]
          },
          "metadata": {
            "tags": [],
            "needs_background": "light"
          }
        }
      ]
    },
    {
      "cell_type": "code",
      "metadata": {
        "id": "CYZQJS0E-vTe"
      },
      "source": [
        "##5 and 3 are misclassified a lot as the other one\n",
        "##A lot of numbers are misclassified as 8"
      ],
      "execution_count": null,
      "outputs": []
    },
    {
      "cell_type": "code",
      "metadata": {
        "colab": {
          "base_uri": "https://localhost:8080/"
        },
        "id": "jExGM1epAtCm",
        "outputId": "3086547e-d08c-43ce-d514-741946e5940a"
      },
      "source": [
        "##MULTILABEL CLASSIFICATION\n",
        "from sklearn.neighbors import KNeighborsClassifier\n",
        "\n",
        "y_train_large=(y_train>=7)\n",
        "y_train_odd=(y_train%2==1)\n",
        "y_multilabel=np.c_[y_train_large,y_train_odd]\n",
        "\n",
        "knn_clf=KNeighborsClassifier()\n",
        "knn_clf.fit(X_train,y_multilabel)\n",
        "\n",
        "knn_clf.fit(X_train,y_multilabel)"
      ],
      "execution_count": null,
      "outputs": [
        {
          "output_type": "execute_result",
          "data": {
            "text/plain": [
              "KNeighborsClassifier(algorithm='auto', leaf_size=30, metric='minkowski',\n",
              "                     metric_params=None, n_jobs=None, n_neighbors=5, p=2,\n",
              "                     weights='uniform')"
            ]
          },
          "metadata": {
            "tags": []
          },
          "execution_count": 62
        }
      ]
    },
    {
      "cell_type": "code",
      "metadata": {
        "colab": {
          "base_uri": "https://localhost:8080/"
        },
        "id": "9nQ9bZiEB46E",
        "outputId": "c81937b5-4e53-4708-8c94-af2df82afd28"
      },
      "source": [
        "knn_clf.predict([some_digit])"
      ],
      "execution_count": null,
      "outputs": [
        {
          "output_type": "execute_result",
          "data": {
            "text/plain": [
              "array([[False,  True]])"
            ]
          },
          "metadata": {
            "tags": []
          },
          "execution_count": 63
        }
      ]
    },
    {
      "cell_type": "code",
      "metadata": {
        "id": "gmb2nREVCHUu"
      },
      "source": [
        "+    "
      ],
      "execution_count": null,
      "outputs": []
    }
  ]
}