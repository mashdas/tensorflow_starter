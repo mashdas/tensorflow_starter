{
  "nbformat": 4,
  "nbformat_minor": 0,
  "metadata": {
    "colab": {
      "name": "hello_world.ipynb",
      "provenance": [],
      "authorship_tag": "ABX9TyPaOuDvyLb6vBUCAGBosiz9"
    },
    "kernelspec": {
      "name": "python3",
      "display_name": "Python 3"
    }
  },
  "cells": [
    {
      "cell_type": "code",
      "metadata": {
        "id": "sdjPvSMY2B2J"
      },
      "source": [
        "import tensorflow as tf\r\n",
        "import numpy as np\r\n",
        "from tensorflow.keras.layers import Dense\r\n"
      ],
      "execution_count": 3,
      "outputs": []
    },
    {
      "cell_type": "code",
      "metadata": {
        "id": "S9WjB11e2f3y"
      },
      "source": [
        "def house(y_new):\r\n",
        "  x=np.array([x for x in range(1,10)],dtype=np.float32)\r\n",
        "  y=np.array([(50+50*a)/100 for a in x],dtype=np.float32)\r\n",
        "  model=tf.keras.Sequential([Dense(3,activation=\"relu\",input_shape=[1])])\r\n",
        "  model.add(Dense(1))\r\n",
        "  model.compile(optimizer=\"sgd\",loss=\"mean_squared_error\")\r\n",
        "  model.fit(x,y,epochs=250)\r\n",
        "  return model.predict(y_new)[0]"
      ],
      "execution_count": 7,
      "outputs": []
    },
    {
      "cell_type": "code",
      "metadata": {
        "id": "y3IFpyoW3pTH"
      },
      "source": [
        "prediction=house([8.0])"
      ],
      "execution_count": null,
      "outputs": []
    },
    {
      "cell_type": "code",
      "metadata": {
        "colab": {
          "base_uri": "https://localhost:8080/"
        },
        "id": "tTIJT2FC3ucf",
        "outputId": "e31ac295-bfb2-4ac2-b3bb-02846428b9a0"
      },
      "source": [
        "prediction"
      ],
      "execution_count": 9,
      "outputs": [
        {
          "output_type": "execute_result",
          "data": {
            "text/plain": [
              "array([4.521349], dtype=float32)"
            ]
          },
          "metadata": {
            "tags": []
          },
          "execution_count": 9
        }
      ]
    },
    {
      "cell_type": "code",
      "metadata": {
        "id": "a6hF-_Ea33a_"
      },
      "source": [
        ""
      ],
      "execution_count": null,
      "outputs": []
    }
  ]
}