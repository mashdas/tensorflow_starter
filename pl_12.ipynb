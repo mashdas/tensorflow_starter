{
  "nbformat": 4,
  "nbformat_minor": 0,
  "metadata": {
    "colab": {
      "name": "pl_12.ipynb",
      "provenance": [],
      "authorship_tag": "ABX9TyP1dKnCfShzZoavG8yB8FaT"
    },
    "kernelspec": {
      "name": "python3",
      "display_name": "Python 3"
    },
    "language_info": {
      "name": "python"
    }
  },
  "cells": [
    {
      "cell_type": "code",
      "metadata": {
        "id": "LsHpPQLnb0M6"
      },
      "source": [
        "import tensorflow as tf\n",
        "\n"
      ],
      "execution_count": 1,
      "outputs": []
    },
    {
      "cell_type": "markdown",
      "metadata": {
        "id": "MtxjE8I4b7MV"
      },
      "source": [
        "# Tensors and Operations\n"
      ]
    },
    {
      "cell_type": "code",
      "metadata": {
        "colab": {
          "base_uri": "https://localhost:8080/"
        },
        "id": "6FklJ8Xvb_Uu",
        "outputId": "f08730a0-dc0e-4add-9e13-c755b87a39f8"
      },
      "source": [
        "tf.constant([[1.,2.,3.],[4.,5.,6.]])"
      ],
      "execution_count": 4,
      "outputs": [
        {
          "output_type": "execute_result",
          "data": {
            "text/plain": [
              "<tf.Tensor: shape=(2, 3), dtype=float32, numpy=\n",
              "array([[1., 2., 3.],\n",
              "       [4., 5., 6.]], dtype=float32)>"
            ]
          },
          "metadata": {
            "tags": []
          },
          "execution_count": 4
        }
      ]
    },
    {
      "cell_type": "code",
      "metadata": {
        "colab": {
          "base_uri": "https://localhost:8080/"
        },
        "id": "PKJ_4cZVe0fh",
        "outputId": "25e462ee-22ff-42eb-e875-14177380319c"
      },
      "source": [
        "tf.constant(42)"
      ],
      "execution_count": 5,
      "outputs": [
        {
          "output_type": "execute_result",
          "data": {
            "text/plain": [
              "<tf.Tensor: shape=(), dtype=int32, numpy=42>"
            ]
          },
          "metadata": {
            "tags": []
          },
          "execution_count": 5
        }
      ]
    },
    {
      "cell_type": "code",
      "metadata": {
        "id": "tLVLPDAxfGMu"
      },
      "source": [
        "t=tf.constant([[1.,2.,3.],[4.,5.,6.]])"
      ],
      "execution_count": 6,
      "outputs": []
    },
    {
      "cell_type": "code",
      "metadata": {
        "colab": {
          "base_uri": "https://localhost:8080/"
        },
        "id": "gl5ZoP7wfTm3",
        "outputId": "3cbe0235-8601-4497-b015-56dd1a256c7a"
      },
      "source": [
        "##Similar to numpy,tf.Tensor has a shape and data type(dtype)\n",
        "t.shape"
      ],
      "execution_count": 7,
      "outputs": [
        {
          "output_type": "execute_result",
          "data": {
            "text/plain": [
              "TensorShape([2, 3])"
            ]
          },
          "metadata": {
            "tags": []
          },
          "execution_count": 7
        }
      ]
    },
    {
      "cell_type": "code",
      "metadata": {
        "colab": {
          "base_uri": "https://localhost:8080/"
        },
        "id": "vm6OXEBNfUwn",
        "outputId": "5b42aac7-9c6e-4eb3-ffb6-60372f7b1db0"
      },
      "source": [
        "t.dtype"
      ],
      "execution_count": 8,
      "outputs": [
        {
          "output_type": "execute_result",
          "data": {
            "text/plain": [
              "tf.float32"
            ]
          },
          "metadata": {
            "tags": []
          },
          "execution_count": 8
        }
      ]
    },
    {
      "cell_type": "code",
      "metadata": {
        "colab": {
          "base_uri": "https://localhost:8080/"
        },
        "id": "TQ8vERJ0fXQA",
        "outputId": "df80ff99-15d7-4f39-9cfc-d1eff8bf2631"
      },
      "source": [
        "t[:,1:]"
      ],
      "execution_count": 9,
      "outputs": [
        {
          "output_type": "execute_result",
          "data": {
            "text/plain": [
              "<tf.Tensor: shape=(2, 2), dtype=float32, numpy=\n",
              "array([[2., 3.],\n",
              "       [5., 6.]], dtype=float32)>"
            ]
          },
          "metadata": {
            "tags": []
          },
          "execution_count": 9
        }
      ]
    },
    {
      "cell_type": "code",
      "metadata": {
        "colab": {
          "base_uri": "https://localhost:8080/"
        },
        "id": "38egVFPBgdyW",
        "outputId": "1cbf5374-92c2-4af2-c74f-1f579750a474"
      },
      "source": [
        "t[...,1,tf.newaxis]"
      ],
      "execution_count": 11,
      "outputs": [
        {
          "output_type": "execute_result",
          "data": {
            "text/plain": [
              "<tf.Tensor: shape=(2, 1), dtype=float32, numpy=\n",
              "array([[2.],\n",
              "       [5.]], dtype=float32)>"
            ]
          },
          "metadata": {
            "tags": []
          },
          "execution_count": 11
        }
      ]
    },
    {
      "cell_type": "code",
      "metadata": {
        "colab": {
          "base_uri": "https://localhost:8080/"
        },
        "id": "6dDL4ZqMgq4Q",
        "outputId": "51d22b2e-c15d-4276-f3b8-d3f26a5b656e"
      },
      "source": [
        "##VAriables\n",
        "\n",
        "v=tf.Variable([[1.,2.,3.],[4.,5.,6.]])\n",
        "v"
      ],
      "execution_count": 2,
      "outputs": [
        {
          "output_type": "execute_result",
          "data": {
            "text/plain": [
              "<tf.Variable 'Variable:0' shape=(2, 3) dtype=float32, numpy=\n",
              "array([[1., 2., 3.],\n",
              "       [4., 5., 6.]], dtype=float32)>"
            ]
          },
          "metadata": {
            "tags": []
          },
          "execution_count": 2
        }
      ]
    },
    {
      "cell_type": "code",
      "metadata": {
        "colab": {
          "base_uri": "https://localhost:8080/"
        },
        "id": "XtIlVPjTT7J_",
        "outputId": "13d5dce8-ad7d-451f-f5ce-b6c34702f924"
      },
      "source": [
        "v.assign(2*v)"
      ],
      "execution_count": 3,
      "outputs": [
        {
          "output_type": "execute_result",
          "data": {
            "text/plain": [
              "<tf.Variable 'UnreadVariable' shape=(2, 3) dtype=float32, numpy=\n",
              "array([[ 2.,  4.,  6.],\n",
              "       [ 8., 10., 12.]], dtype=float32)>"
            ]
          },
          "metadata": {
            "tags": []
          },
          "execution_count": 3
        }
      ]
    },
    {
      "cell_type": "code",
      "metadata": {
        "colab": {
          "base_uri": "https://localhost:8080/"
        },
        "id": "u7DzFK56T_Jn",
        "outputId": "f40d6dc8-0955-44a0-c277-386f4b87c3d0"
      },
      "source": [
        "v[0,1].assign(42)"
      ],
      "execution_count": 6,
      "outputs": [
        {
          "output_type": "execute_result",
          "data": {
            "text/plain": [
              "<tf.Variable 'UnreadVariable' shape=(2, 3) dtype=float32, numpy=\n",
              "array([[ 2., 42.,  6.],\n",
              "       [ 8., 10., 12.]], dtype=float32)>"
            ]
          },
          "metadata": {
            "tags": []
          },
          "execution_count": 6
        }
      ]
    },
    {
      "cell_type": "code",
      "metadata": {
        "colab": {
          "base_uri": "https://localhost:8080/"
        },
        "id": "bV_FW3JDUCZe",
        "outputId": "9adb3ba8-4f0f-4844-8e6d-31e981f7ed2e"
      },
      "source": [
        "v[:,2].assign([0,1])"
      ],
      "execution_count": 7,
      "outputs": [
        {
          "output_type": "execute_result",
          "data": {
            "text/plain": [
              "<tf.Variable 'UnreadVariable' shape=(2, 3) dtype=float32, numpy=\n",
              "array([[ 2., 42.,  0.],\n",
              "       [ 8., 10.,  1.]], dtype=float32)>"
            ]
          },
          "metadata": {
            "tags": []
          },
          "execution_count": 7
        }
      ]
    },
    {
      "cell_type": "code",
      "metadata": {
        "id": "5MGkdQOSUSk5"
      },
      "source": [
        "####Custom Loss functions\n",
        "\n",
        "def huber_fn(y_true,y_pred):\n",
        "  error=y_true-y_pred\n",
        "  is_small_error=tf.abs(error)<1\n",
        "  squared_loss=tf.square(error)/2\n",
        "  linear_loss=tf.abs(error)\n",
        "  return tf.where(is_small_error,squared_loss,linear_loss)\n",
        "\n",
        "##model.compile(loss=huber_fn,optimizer=\"nadam\")\n",
        "\n",
        "\n",
        "#While loading we need to provide a dictionary mapping the custom name with the object\n",
        "##Example-model=keras.models.load_model(\"my_model_with_a_custom_loss.h5\",custom_objects={\"huber_fn\":huber_fn})\n",
        "\n",
        "\n",
        "def create_huber(threshold=1.0):\n",
        "  def huber_fn(y_true,y_pred):\n",
        "    error=y_true-y_pred\n",
        "    is_small_error=tf.abs(error)<threshold\n",
        "    squared_loss=tf.square(error)/2\n",
        "    linear_loss=tf.abs(error)\n",
        "    return tf.where(is_small_error,squared_loss,linear_loss)\n",
        "  return huber_fn\n",
        "\n",
        "##model.compile(loss=create_huber(2.0),optimizer=\"nadam\")\n",
        "\n",
        "##Example-model=keras.models.load_model(\"my_model_with_a_custom_loss.h5\",custom_objects={\"huber_fn\":create_huber(2.0) })\n",
        "\n"
      ],
      "execution_count": null,
      "outputs": []
    },
    {
      "cell_type": "code",
      "metadata": {
        "id": "StADUqGZmMP2"
      },
      "source": [
        "##Custom Loss using subclass\n",
        "\n",
        "class HuberLoss(keras.losses.Loss):\n",
        "  def __init__(self,threshold=1.0,**kwargs):\n",
        "    self.thershold=threshold\n",
        "    super().__init__(**kwargs)\n",
        "\n",
        "  def call(self,y_true,y_pred):\n",
        "    error=y_true-y_pred\n",
        "    is_small_error=tf.abs(error)<self.threshold\n",
        "    squared_loss=tf.square(error)/2\n",
        "    linear_loss=self.threshold*tf.abs(error)-self.threshold**2/2\n",
        "    return tf.where(is_small_error,squared_loss,linear_loss)\n",
        "\n",
        "  def get_config(self):\n",
        "    base_config=super().get_config()\n",
        "    return {**base_config,\"threshold\":self.thershold}     "
      ],
      "execution_count": null,
      "outputs": []
    },
    {
      "cell_type": "code",
      "metadata": {
        "id": "7z5-vhIjmMTJ"
      },
      "source": [
        "##Custom Activation Functions,Initializers,Regularizers and Constraints\n",
        "\n",
        "def my_softplus(z):\n",
        "  return tf.math.log(tf.exp(z)+1.0)\n",
        "\n",
        "def glorot_initializer(shape,dtype=tf.float32):\n",
        "  stddev=tf.sqrt(2./(shape[0]+shape[1]))\n",
        "\n",
        "\n",
        "def my_l1_regularizer(weights):\n",
        "  return tf.reduce_sum(tf.abs(0.01*weights))\n",
        "\n",
        "def my_positive_weights(weights):\n",
        "  return tf.where(weights<0,tf.zeros_like(weights),weights) \n",
        "\n",
        "##IMPLEMENTING THEM\n",
        "\n",
        "layer=keras.layers.Dense(30,activation=my_softplus,\n",
        "                         kernel_initializer=my_glorot_initializer,\n",
        "                         kernel_regularizer=my_l1_regularizer,\n",
        "                         kernel_constraint=my_positive_weights)\n",
        "\n",
        "\n",
        "\n",
        "\n",
        "\n",
        "\n",
        "\n"
      ],
      "execution_count": null,
      "outputs": []
    },
    {
      "cell_type": "code",
      "metadata": {
        "id": "rJcaYG7YDXy2"
      },
      "source": [
        "##Custom Layers\n",
        "##Custom layer without any weights\n",
        "\n",
        "exponential_layer=keras.layers.Lambda(lambda x:tf.exp(x))\n",
        "\n",
        "\n",
        "##Custom Layer with weights\n",
        "\n",
        "class MyDense(keras.layers.Layer):\n",
        "\n",
        "  def __init__(self,units,activation=None,**kwargs):\n",
        "    super().__init__(**kwargs)\n",
        "    self.units=units\n",
        "    self.activation=keras.activations.get(activation)\n",
        "\n",
        "  def build(self,batch_input_shape):\n",
        "    self.kernel=self.add_weight(name=\"kernel\",shape=[batch_input_shape[-1],self.units],initializer=\"glorot_normal\")  \n",
        "  \n",
        "    self.bias=self.add_weight(name=\"bias\",shape=[self.units],initializer=\"zeros\")\n",
        "    super().build(batch_input_shape)\n",
        "  \n",
        "  def call(self,X):\n",
        "    return self.activation(X@self.kernel+self.bias)\n",
        "\n",
        "\n",
        "  def compute_output_shape(self,batch_input_shape):\n",
        "    return tf.TensorShape(batch_input_shape.as_list()[:-1]+[self.units])\n",
        "\n",
        "  def get_config(self):\n",
        "    base_config=super().get_config()\n",
        "    return {**base_config,\"units\":self.units,\"activation\":keras.activations.serialize(self.activation)}\n",
        "\n"
      ],
      "execution_count": null,
      "outputs": []
    },
    {
      "cell_type": "code",
      "metadata": {
        "id": "r1ZqPvZUDYAE"
      },
      "source": [
        "\n",
        "##Custom Model\n",
        "\n",
        "class ResidualBlock(keras.layers.Layer):\n",
        "  def __init__(self,n_layers,n_neurons,**kwargs):\n",
        "    super().__init__(**kwargs)\n",
        "    self.hidden=[keras.layers.Dense(n_neurons,activation=\"elu\",kernel_initializer=\"ne_normal\") for _ in range(n_layers)]\n",
        "\n",
        "\n",
        "  def call(self,inputs):\n",
        "    z=inputs\n",
        "    for layer in self.hidden:\n",
        "      z=layer(z)\n",
        "    return inputs+z\n",
        "\n",
        "\n",
        "class ResidualRegressor(keras.models.Model):\n",
        "  def __init__(self,output_dim,**kwargs):\n",
        "    self.hidden1=keras.layers.Dense(30,activation=\"elu\",\"kernel_initializer\"=\"he_normal\")\n",
        "\n",
        "    self.block1=ResidualBlock(2,30)\n",
        "    self.block2=ResidualBlock(2,30)\n",
        "    self.out=keras.layers.Dense(output_dim)\n",
        "\n",
        "  def call(self,inputs):\n",
        "    z=self.hidden1(inputs)\n",
        "    for _ in range(1+3):\n",
        "      z=self.block1(z)\n",
        "    z=self.block2(z)\n",
        "    return self.   out(z)  "
      ],
      "execution_count": null,
      "outputs": []
    },
    {
      "cell_type": "code",
      "metadata": {
        "id": "sxMz08TmOkjH"
      },
      "source": [
        "x=[\"252 - 121\",\"22-2\",\"121\"]\n",
        "\n",
        "x_gen=[d.split('-')[1].strip() if \"-\" in d else d  for d in x ]"
      ],
      "execution_count": 19,
      "outputs": []
    },
    {
      "cell_type": "code",
      "metadata": {
        "colab": {
          "base_uri": "https://localhost:8080/"
        },
        "id": "7zGjMTa0YRyf",
        "outputId": "cd37d501-4c96-48e2-ad74-b6571d797426"
      },
      "source": [
        "x_gen"
      ],
      "execution_count": 20,
      "outputs": [
        {
          "output_type": "execute_result",
          "data": {
            "text/plain": [
              "['121', '2', '121']"
            ]
          },
          "metadata": {
            "tags": []
          },
          "execution_count": 20
        }
      ]
    },
    {
      "cell_type": "code",
      "metadata": {
        "colab": {
          "base_uri": "https://localhost:8080/"
        },
        "id": "TXmMVMT2YUpF",
        "outputId": "16b79c76-7a14-4374-92b5-8000afbdce07"
      },
      "source": [
        "\"123-123\".split(\"-\")"
      ],
      "execution_count": 11,
      "outputs": [
        {
          "output_type": "execute_result",
          "data": {
            "text/plain": [
              "['123', '123']"
            ]
          },
          "metadata": {
            "tags": []
          },
          "execution_count": 11
        }
      ]
    },
    {
      "cell_type": "code",
      "metadata": {
        "colab": {
          "base_uri": "https://localhost:8080/"
        },
        "id": "qLm_IuFBYc-l",
        "outputId": "90257dc2-f8fb-41a4-e139-2fcab702df5a"
      },
      "source": [
        "\"-\" in \"213-12\""
      ],
      "execution_count": 12,
      "outputs": [
        {
          "output_type": "execute_result",
          "data": {
            "text/plain": [
              "True"
            ]
          },
          "metadata": {
            "tags": []
          },
          "execution_count": 12
        }
      ]
    },
    {
      "cell_type": "code",
      "metadata": {
        "id": "_k3e2drsYqm9"
      },
      "source": [
        ""
      ],
      "execution_count": null,
      "outputs": []
    }
  ]
}