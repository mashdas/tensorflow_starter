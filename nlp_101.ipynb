{
  "nbformat": 4,
  "nbformat_minor": 0,
  "metadata": {
    "colab": {
      "name": "nlp_101.ipynb",
      "provenance": [],
      "collapsed_sections": [],
      "authorship_tag": "ABX9TyOYR92EM12qUSY2akIn22C7"
    },
    "kernelspec": {
      "name": "python3",
      "display_name": "Python 3"
    },
    "language_info": {
      "name": "python"
    }
  },
  "cells": [
    {
      "cell_type": "code",
      "metadata": {
        "colab": {
          "base_uri": "https://localhost:8080/"
        },
        "id": "LHw_VFuDRSyr",
        "outputId": "b5cca787-a200-4ee0-832d-84cb7d2fadb3"
      },
      "source": [
        "from tensorflow.keras.preprocessing.text import Tokenizer\n",
        "from tensorflow.keras.preprocessing.sequence import  pad_sequences\n",
        "\n",
        "sentences = [\n",
        "    'i love my dog',\n",
        "    'I, love my cat',\n",
        "    'he loves my dog!',\n",
        "    'My dog thinks that i is very wisdomous'\n",
        "]\n",
        "\n",
        "tokenizer=Tokenizer(num_words=100,oov_token=\"<OOV>\")\n",
        "tokenizer.fit_on_texts(sentences)\n",
        "word_index=tokenizer.word_index\n",
        "print(word_index)"
      ],
      "execution_count": 22,
      "outputs": [
        {
          "output_type": "stream",
          "text": [
            "{'<OOV>': 1, 'my': 2, 'i': 3, 'dog': 4, 'love': 5, 'cat': 6, 'he': 7, 'loves': 8, 'thinks': 9, 'that': 10, 'is': 11, 'very': 12, 'wisdomous': 13}\n"
          ],
          "name": "stdout"
        }
      ]
    },
    {
      "cell_type": "code",
      "metadata": {
        "colab": {
          "base_uri": "https://localhost:8080/"
        },
        "id": "_a2ndj0-RuX8",
        "outputId": "b2267169-6d2b-4260-89e9-dc938347361f"
      },
      "source": [
        "sequences=tokenizer.texts_to_sequences(sentences,)\n",
        "print(sequences)"
      ],
      "execution_count": 16,
      "outputs": [
        {
          "output_type": "stream",
          "text": [
            "[[3, 5, 2, 4], [3, 5, 2, 6], [7, 8, 2, 4], [2, 4, 9, 10, 3, 11, 12, 13]]\n"
          ],
          "name": "stdout"
        }
      ]
    },
    {
      "cell_type": "code",
      "metadata": {
        "id": "xI0ZAZt5U_nx"
      },
      "source": [
        "test_data=[\n",
        "           'the cat loves the dog',\n",
        "           'the dog is wisdomous'\n",
        "]\n",
        "\n",
        "t_sequences=tokenizer.texts_to_sequences(test_data)"
      ],
      "execution_count": 17,
      "outputs": []
    },
    {
      "cell_type": "code",
      "metadata": {
        "colab": {
          "base_uri": "https://localhost:8080/"
        },
        "id": "Qx6UeBG5Vm5o",
        "outputId": "341acf10-bb1c-4510-f501-781f5668541b"
      },
      "source": [
        "print(t_sequences)"
      ],
      "execution_count": 18,
      "outputs": [
        {
          "output_type": "stream",
          "text": [
            "[[1, 6, 8, 1, 4], [1, 4, 11, 13]]\n"
          ],
          "name": "stdout"
        }
      ]
    },
    {
      "cell_type": "code",
      "metadata": {
        "id": "Jsn3wmicVqK_"
      },
      "source": [
        "##PADDINGSS\n",
        "padded=pad_sequences(sequences,padding='post')"
      ],
      "execution_count": 24,
      "outputs": []
    },
    {
      "cell_type": "code",
      "metadata": {
        "colab": {
          "base_uri": "https://localhost:8080/"
        },
        "id": "-xVVZJTpX2Ay",
        "outputId": "39b788f6-b3ac-41c6-bd21-7d3625c1b1a4"
      },
      "source": [
        "print(padded)"
      ],
      "execution_count": 25,
      "outputs": [
        {
          "output_type": "stream",
          "text": [
            "[[ 3  5  2  4  0  0  0  0]\n",
            " [ 3  5  2  6  0  0  0  0]\n",
            " [ 7  8  2  4  0  0  0  0]\n",
            " [ 2  4  9 10  3 11 12 13]]\n"
          ],
          "name": "stdout"
        }
      ]
    },
    {
      "cell_type": "code",
      "metadata": {
        "id": "zH_AwHhgYHu_"
      },
      "source": [
        ""
      ],
      "execution_count": null,
      "outputs": []
    }
  ]
}