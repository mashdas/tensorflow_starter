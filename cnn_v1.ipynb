{
  "nbformat": 4,
  "nbformat_minor": 0,
  "metadata": {
    "colab": {
      "name": "cnn_v1.ipynb",
      "provenance": [],
      "authorship_tag": "ABX9TyNbpHysgq+Wf660M1yM/5zB"
    },
    "kernelspec": {
      "name": "python3",
      "display_name": "Python 3"
    },
    "language_info": {
      "name": "python"
    }
  },
  "cells": [
    {
      "cell_type": "code",
      "metadata": {
        "id": "H3rTNCutOf0F"
      },
      "source": [
        "import tensorflow as tf\n",
        "import numpy as plt\n",
        "import matplotlib.pyplot as plt"
      ],
      "execution_count": 1,
      "outputs": []
    },
    {
      "cell_type": "code",
      "metadata": {
        "id": "D_vAOdRkOvNq"
      },
      "source": [
        "from tensorflow.keras.layers import Dense,Flatten,MaxPooling2D,Conv2D"
      ],
      "execution_count": 2,
      "outputs": []
    },
    {
      "cell_type": "code",
      "metadata": {
        "id": "VYZ9SFmRPCtI"
      },
      "source": [
        "data=tf.keras.datasets.fashion_mnist\n",
        "(x_train,y_train),(x_test,y_test)=data.load_data()"
      ],
      "execution_count": 3,
      "outputs": []
    },
    {
      "cell_type": "code",
      "metadata": {
        "colab": {
          "base_uri": "https://localhost:8080/",
          "height": 281
        },
        "id": "QfQa_qtRPNWX",
        "outputId": "64cefa32-131b-4f38-be2b-d7d884be6844"
      },
      "source": [
        "plt.imshow(x_train[1])"
      ],
      "execution_count": 4,
      "outputs": [
        {
          "output_type": "execute_result",
          "data": {
            "text/plain": [
              "<matplotlib.image.AxesImage at 0x7f0022a86e50>"
            ]
          },
          "metadata": {
            "tags": []
          },
          "execution_count": 4
        },
        {
          "output_type": "display_data",
          "data": {
            "image/png": "[encoded data removed]",
            "text/plain": [
              "<Figure size 432x288 with 1 Axes>"
            ]
          },
          "metadata": {
            "tags": [],
            "needs_background": "light"
          }
        }
      ]
    },
    {
      "cell_type": "code",
      "metadata": {
        "colab": {
          "base_uri": "https://localhost:8080/"
        },
        "id": "QH982vJ9PUoH",
        "outputId": "d6019e20-4bcb-4779-dd80-1db3f1ccd1a6"
      },
      "source": [
        "\n",
        "print(type(x_train))"
      ],
      "execution_count": 5,
      "outputs": [
        {
          "output_type": "stream",
          "text": [
            "<class 'numpy.ndarray'>\n"
          ],
          "name": "stdout"
        }
      ]
    },
    {
      "cell_type": "code",
      "metadata": {
        "id": "W0KgjNtPSmkP"
      },
      "source": [
        "rows=len(x_train[0])\n",
        "cols=len(x_train[0][0])"
      ],
      "execution_count": 6,
      "outputs": []
    },
    {
      "cell_type": "code",
      "metadata": {
        "colab": {
          "base_uri": "https://localhost:8080/"
        },
        "id": "cPxrnEWeSrK2",
        "outputId": "15390b7a-8fde-4a99-bcbe-7882a74b1a16"
      },
      "source": [
        "rows,cols"
      ],
      "execution_count": 7,
      "outputs": [
        {
          "output_type": "execute_result",
          "data": {
            "text/plain": [
              "(28, 28)"
            ]
          },
          "metadata": {
            "tags": []
          },
          "execution_count": 7
        }
      ]
    },
    {
      "cell_type": "code",
      "metadata": {
        "id": "Q_VvZJSMS3nu"
      },
      "source": [
        "##Reshaping the data to feed into the conv2d layers\n",
        "x_train=x_train.reshape(len(x_train),rows,cols,1)\n",
        "x_train=x_train/255.0\n",
        "x_test=x_test.reshape(len(x_test),rows,cols,1)\n",
        "x_test=x_test/255.0"
      ],
      "execution_count": 8,
      "outputs": []
    },
    {
      "cell_type": "code",
      "metadata": {
        "colab": {
          "base_uri": "https://localhost:8080/"
        },
        "id": "f4N3pJJNTjCP",
        "outputId": "4f4e78a1-00bb-4b76-8c10-8f36388120df"
      },
      "source": [
        "model=tf.keras.models.Sequential(\n",
        "    [Conv2D(64,(3,3),activation='relu',input_shape=(rows,cols,1)),\n",
        "     MaxPooling2D((2,2)),\n",
        "     Conv2D(64,(3,3),activation='relu'),\n",
        "     MaxPooling2D((2,2)),\n",
        "     Flatten(),\n",
        "     Dense(128,activation='relu'),\n",
        "     Dense(10,activation='softmax')\n",
        "])\n",
        "\n",
        "model.compile(optimizer=\"adam\",loss=\"sparse_categorical_crossentropy\",metrics=[\"accuracy\"])\n",
        "model.summary()"
      ],
      "execution_count": 9,
      "outputs": [
        {
          "output_type": "stream",
          "text": [
            "Model: \"sequential\"\n",
            "_________________________________________________________________\n",
            "Layer (type)                 Output Shape              Param #   \n",
            "=================================================================\n",
            "conv2d (Conv2D)              (None, 26, 26, 64)        640       \n",
            "_________________________________________________________________\n",
            "max_pooling2d (MaxPooling2D) (None, 13, 13, 64)        0         \n",
            "_________________________________________________________________\n",
            "conv2d_1 (Conv2D)            (None, 11, 11, 64)        36928     \n",
            "_________________________________________________________________\n",
            "max_pooling2d_1 (MaxPooling2 (None, 5, 5, 64)          0         \n",
            "_________________________________________________________________\n",
            "flatten (Flatten)            (None, 1600)              0         \n",
            "_________________________________________________________________\n",
            "dense (Dense)                (None, 128)               204928    \n",
            "_________________________________________________________________\n",
            "dense_1 (Dense)              (None, 10)                1290      \n",
            "=================================================================\n",
            "Total params: 243,786\n",
            "Trainable params: 243,786\n",
            "Non-trainable params: 0\n",
            "_________________________________________________________________\n"
          ],
          "name": "stdout"
        }
      ]
    },
    {
      "cell_type": "code",
      "metadata": {
        "colab": {
          "base_uri": "https://localhost:8080/"
        },
        "id": "6Q5R8clATo-1",
        "outputId": "9910a872-5670-4b1a-eae5-2d5f947f987e"
      },
      "source": [
        "model.fit(x_train,y_train,epochs=5)"
      ],
      "execution_count": 10,
      "outputs": [
        {
          "output_type": "stream",
          "text": [
            "Epoch 1/5\n",
            "1875/1875 [==============================] - 68s 36ms/step - loss: 0.6047 - accuracy: 0.7800\n",
            "Epoch 2/5\n",
            "1875/1875 [==============================] - 68s 36ms/step - loss: 0.3058 - accuracy: 0.8877\n",
            "Epoch 3/5\n",
            "1875/1875 [==============================] - 68s 36ms/step - loss: 0.2527 - accuracy: 0.9063\n",
            "Epoch 4/5\n",
            "1875/1875 [==============================] - 67s 36ms/step - loss: 0.2160 - accuracy: 0.9196\n",
            "Epoch 5/5\n",
            "1875/1875 [==============================] - 67s 36ms/step - loss: 0.1906 - accuracy: 0.9292\n"
          ],
          "name": "stdout"
        },
        {
          "output_type": "execute_result",
          "data": {
            "text/plain": [
              "<tensorflow.python.keras.callbacks.History at 0x7f0022a13250>"
            ]
          },
          "metadata": {
            "tags": []
          },
          "execution_count": 10
        }
      ]
    },
    {
      "cell_type": "code",
      "metadata": {
        "colab": {
          "base_uri": "https://localhost:8080/",
          "height": 267
        },
        "id": "qsJe8V21VlS-",
        "outputId": "c655e139-bed5-4314-89d0-1c66b883de70"
      },
      "source": [
        "f,axarr=plt.subplots(3,4)\n",
        "img_1=1\n",
        "img_2=3\n",
        "img_3=9\n",
        "conv_num=4\n",
        "from tensorflow.keras import models\n",
        "layer_outputs=[x.output for x in model.layers]\n",
        "activation_model=tf.keras.models.Model(inputs=model.input,outputs=layer_outputs)\n",
        "for x in range(0,4):\n",
        "  f1=activation_model.predict(x_train[img_1].reshape(1,28,28,1))[x]\n",
        "  axarr[0,x].imshow(f1[0,:,:,conv_num],cmap='inferno')\n",
        "  axarr[0,x].grid(False)\n",
        "\n",
        "  f2=activation_model.predict(x_train[img_2].reshape(1,28,28,1))[x]\n",
        "  axarr[1,x].imshow(f2[0,:,:,conv_num],cmap='inferno')\n",
        "  axarr[1,x].grid(False)\n",
        "\n",
        "  f3=activation_model.predict(x_train[img_3].reshape(1,28,28,1))[x]\n",
        "  axarr[2,x].imshow(f3[0,:,:,conv_num],cmap='inferno')\n",
        "  axarr[2,x].grid(False)"
      ],
      "execution_count": 19,
      "outputs": [
        {
          "output_type": "display_data",
          "data": {
            "image/png": "[encoded data removed]",
            "text/plain": [
              "<Figure size 432x288 with 12 Axes>"
            ]
          },
          "metadata": {
            "tags": [],
            "needs_background": "light"
          }
        }
      ]
    },
    {
      "cell_type": "code",
      "metadata": {
        "id": "_aY9XKDf0wvS"
      },
      "source": [
        ""
      ],
      "execution_count": null,
      "outputs": []
    }
  ]
}