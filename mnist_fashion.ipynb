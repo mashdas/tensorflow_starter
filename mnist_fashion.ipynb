{
  "nbformat": 4,
  "nbformat_minor": 0,
  "metadata": {
    "colab": {
      "name": "mnist_fashion.ipynb",
      "provenance": [],
      "collapsed_sections": [
        "c6iCaEgzQHTe"
      ],
      "authorship_tag": "ABX9TyOrX2rDtt3ciGhY2pOrSAfu"
    },
    "kernelspec": {
      "name": "python3",
      "display_name": "Python 3"
    }
  },
  "cells": [
    {
      "cell_type": "markdown",
      "metadata": {
        "id": "c6iCaEgzQHTe"
      },
      "source": [
        "# Imports\r\n"
      ]
    },
    {
      "cell_type": "code",
      "metadata": {
        "id": "7-qox-hQO-SN"
      },
      "source": [
        "import tensorflow as tf\r\n",
        "import numpy as np\r\n",
        "import matplotlib.pyplot as plt\r\n",
        "from tensorflow.keras.layers import Flatten,Dense"
      ],
      "execution_count": 13,
      "outputs": []
    },
    {
      "cell_type": "markdown",
      "metadata": {
        "id": "YhDTQYKWQPVu"
      },
      "source": [
        "#Loading Dataset\r\n"
      ]
    },
    {
      "cell_type": "code",
      "metadata": {
        "id": "t8U0OdiKQScl"
      },
      "source": [
        "mnist=tf.keras.datasets.fashion_mnist\r\n",
        "(training_images,training_labels),(test_images,test_lables)=mnist.load_data()"
      ],
      "execution_count": null,
      "outputs": []
    },
    {
      "cell_type": "code",
      "metadata": {
        "id": "r9_EEFPVQu96"
      },
      "source": [
        "np.set_printoptions(linewidth=200)\r\n",
        "\r\n",
        "plt.imshow(training_images[0])\r\n",
        "print(training_labels[0])\r\n",
        "print(training_images[0])"
      ],
      "execution_count": null,
      "outputs": []
    },
    {
      "cell_type": "markdown",
      "metadata": {
        "id": "TOhdVgUYUIzX"
      },
      "source": [
        "# Custom Callbacks\r\n"
      ]
    },
    {
      "cell_type": "code",
      "metadata": {
        "id": "d3GJoGbmULd1"
      },
      "source": [
        "class myCallback(tf.keras.callbacks.Callback):\r\n",
        "  def on_epoch_end(self,epoch,logs={}):\r\n",
        "    if(logs.get('loss')<0.2):\r\n",
        "      print(\"\\n thats enough!!\")\r\n",
        "      self.model.stop_training=True"
      ],
      "execution_count": 19,
      "outputs": []
    },
    {
      "cell_type": "markdown",
      "metadata": {
        "id": "d4phiPirQ6S6"
      },
      "source": [
        "# Model"
      ]
    },
    {
      "cell_type": "code",
      "metadata": {
        "id": "kXTc48FwQ8rt"
      },
      "source": [
        "training_images  = training_images / 255.0\r\n",
        "test_images = test_images / 255.0\r\n",
        "\r\n",
        "callbacks=myCallback()\r\n",
        "model=tf.keras.models.Sequential([Flatten(input_shape=(28,28)),\r\n",
        "                                  Dense(512,activation=tf.nn.relu),\r\n",
        "                                  Dense(10,activation=tf.nn.softmax)])"
      ],
      "execution_count": 20,
      "outputs": []
    },
    {
      "cell_type": "code",
      "metadata": {
        "colab": {
          "base_uri": "https://localhost:8080/"
        },
        "id": "Rkl4ENjHRsQG",
        "outputId": "ee8ccc9c-e70f-4a91-d65c-231b881cf7f2"
      },
      "source": [
        "model.compile(optimizer=tf.optimizers.Adam(),\r\n",
        "              loss='sparse_categorical_crossentropy',\r\n",
        "              metrics=['accuracy'])\r\n",
        "\r\n",
        "model.fit(training_images,training_labels,epochs=5,callbacks=[callbacks])"
      ],
      "execution_count": 23,
      "outputs": [
        {
          "output_type": "stream",
          "text": [
            "Epoch 1/5\n",
            "1875/1875 [==============================] - 6s 3ms/step - loss: 0.5850 - accuracy: 0.7921\n",
            "Epoch 2/5\n",
            "1875/1875 [==============================] - 6s 3ms/step - loss: 0.3694 - accuracy: 0.8653\n",
            "Epoch 3/5\n",
            "1875/1875 [==============================] - 6s 3ms/step - loss: 0.3225 - accuracy: 0.8807\n",
            "Epoch 4/5\n",
            "1875/1875 [==============================] - 6s 3ms/step - loss: 0.2943 - accuracy: 0.8896\n",
            "Epoch 5/5\n",
            "1875/1875 [==============================] - 6s 3ms/step - loss: 0.2823 - accuracy: 0.8955\n"
          ],
          "name": "stdout"
        },
        {
          "output_type": "execute_result",
          "data": {
            "text/plain": [
              "<tensorflow.python.keras.callbacks.History at 0x7f5fe49b22d0>"
            ]
          },
          "metadata": {
            "tags": []
          },
          "execution_count": 23
        }
      ]
    },
    {
      "cell_type": "code",
      "metadata": {
        "colab": {
          "base_uri": "https://localhost:8080/"
        },
        "id": "XMkYC6tLVXMV",
        "outputId": "77ed02be-ef43-44c3-ac7e-6c6e4fdcf4f6"
      },
      "source": [
        "model.evaluate(test_images,test_lables)"
      ],
      "execution_count": 26,
      "outputs": [
        {
          "output_type": "stream",
          "text": [
            "313/313 [==============================] - 1s 2ms/step - loss: 0.3650 - accuracy: 0.8666\n"
          ],
          "name": "stdout"
        },
        {
          "output_type": "execute_result",
          "data": {
            "text/plain": [
              "[0.3650166392326355, 0.866599977016449]"
            ]
          },
          "metadata": {
            "tags": []
          },
          "execution_count": 26
        }
      ]
    },
    {
      "cell_type": "code",
      "metadata": {
        "colab": {
          "base_uri": "https://localhost:8080/"
        },
        "id": "7l6U0510Vq_c",
        "outputId": "e3d2245f-c96e-405d-b8c7-cd4576b9f23d"
      },
      "source": [
        "classifications=model.predict(test_images)\r\n",
        "print(classifications[22])\r\n",
        "print(test_lables[22])"
      ],
      "execution_count": 27,
      "outputs": [
        {
          "output_type": "stream",
          "text": [
            "[3.3656794e-10 9.5542923e-12 2.9484633e-11 3.8458729e-11 1.9981701e-09 4.3398672e-05 1.8287052e-10 9.9995267e-01 9.3753999e-07 3.0272013e-06]\n",
            "7\n"
          ],
          "name": "stdout"
        }
      ]
    },
    {
      "cell_type": "code",
      "metadata": {
        "colab": {
          "base_uri": "https://localhost:8080/"
        },
        "id": "84VuQIOnWJfr",
        "outputId": "65bb22a2-652a-4ad3-8e4d-f83084aa7638"
      },
      "source": [
        "print(np.argmax(classifications[22]))"
      ],
      "execution_count": 28,
      "outputs": [
        {
          "output_type": "stream",
          "text": [
            "7\n"
          ],
          "name": "stdout"
        }
      ]
    },
    {
      "cell_type": "code",
      "metadata": {
        "id": "0MRGCkS8WQ87"
      },
      "source": [
        ""
      ],
      "execution_count": null,
      "outputs": []
    }
  ]
}