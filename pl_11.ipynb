{
  "nbformat": 4,
  "nbformat_minor": 0,
  "metadata": {
    "colab": {
      "name": "pl_10.ipynb",
      "provenance": [],
      "collapsed_sections": [],
      "authorship_tag": "ABX9TyOGXswSUkzHnziWW4lncCnQ"
    },
    "kernelspec": {
      "name": "python3",
      "display_name": "Python 3"
    },
    "language_info": {
      "name": "python"
    }
  },
  "cells": [
    {
      "cell_type": "code",
      "metadata": {
        "id": "T0DU1RqsSNJd"
      },
      "source": [
        "import tensorflow as tf\n",
        "import numpy as np\n",
        "from tensorflow import keras"
      ],
      "execution_count": 95,
      "outputs": []
    },
    {
      "cell_type": "code",
      "metadata": {
        "id": "2oxXBR54SYqd"
      },
      "source": [
        "fashion_mnist=tf.keras.datasets.fashion_mnist\n",
        "(X_train_full,y_train_full),(X_test,y_test)=fashion_mnist.load_data()"
      ],
      "execution_count": 96,
      "outputs": []
    },
    {
      "cell_type": "code",
      "metadata": {
        "id": "ADfdKQs3So15"
      },
      "source": [
        "##SCALING THE DATA\n",
        "X_valid,X_train=X_train_full[:5000]/255.0,X_train_full[5000:]/255.0\n",
        "y_valid,y_train=y_train_full[:5000],y_train_full[5000:]"
      ],
      "execution_count": 97,
      "outputs": []
    },
    {
      "cell_type": "code",
      "metadata": {
        "colab": {
          "base_uri": "https://localhost:8080/"
        },
        "id": "X36pVcyxTFsC",
        "outputId": "c5b88166-b998-4306-853e-664265aa8d45"
      },
      "source": [
        "y_train[0]"
      ],
      "execution_count": 98,
      "outputs": [
        {
          "output_type": "execute_result",
          "data": {
            "text/plain": [
              "4"
            ]
          },
          "metadata": {
            "tags": []
          },
          "execution_count": 98
        }
      ]
    },
    {
      "cell_type": "code",
      "metadata": {
        "id": "_3wUQ2YRTNrB"
      },
      "source": [
        "class_names=[\"tshirt/top\",\"trouser\",\"pullover\",\"dress\",\"coat\",\"sandal\",\"shirt\",\"sneaker\",\"bag\",\"ankle-boot\"]"
      ],
      "execution_count": 99,
      "outputs": []
    },
    {
      "cell_type": "code",
      "metadata": {
        "id": "B_MBIrFjTZpx"
      },
      "source": [
        "##CREATING THE MODEL\n",
        "from tensorflow.keras.models import Sequential\n",
        "from tensorflow.keras.layers import Flatten,Dense\n",
        "\n",
        "model=Sequential()\n",
        "model.add(Flatten(input_shape=[28,28]))\n",
        "model.add(Dense(300,activation=\"relu\"))\n",
        "model.add(Dense(100,activation=\"relu\"))\n",
        "model.add(Dense(10,activation=\"softmax\"))"
      ],
      "execution_count": 100,
      "outputs": []
    },
    {
      "cell_type": "code",
      "metadata": {
        "colab": {
          "base_uri": "https://localhost:8080/"
        },
        "id": "Hj07OZgkUqeT",
        "outputId": "fa836280-099c-4269-d877-fe3a8ac84e8c"
      },
      "source": [
        "model.summary()"
      ],
      "execution_count": 101,
      "outputs": [
        {
          "output_type": "stream",
          "text": [
            "Model: \"sequential_1\"\n",
            "_________________________________________________________________\n",
            "Layer (type)                 Output Shape              Param #   \n",
            "=================================================================\n",
            "flatten_1 (Flatten)          (None, 784)               0         \n",
            "_________________________________________________________________\n",
            "dense_37 (Dense)             (None, 300)               235500    \n",
            "_________________________________________________________________\n",
            "dense_38 (Dense)             (None, 100)               30100     \n",
            "_________________________________________________________________\n",
            "dense_39 (Dense)             (None, 10)                1010      \n",
            "=================================================================\n",
            "Total params: 266,610\n",
            "Trainable params: 266,610\n",
            "Non-trainable params: 0\n",
            "_________________________________________________________________\n"
          ],
          "name": "stdout"
        }
      ]
    },
    {
      "cell_type": "code",
      "metadata": {
        "colab": {
          "base_uri": "https://localhost:8080/",
          "height": 35
        },
        "id": "tZqjV9-4U3TC",
        "outputId": "793c1970-d144-4409-814a-09a1f7187cb4"
      },
      "source": [
        "model.layers[1].name"
      ],
      "execution_count": 102,
      "outputs": [
        {
          "output_type": "execute_result",
          "data": {
            "application/vnd.google.colaboratory.intrinsic+json": {
              "type": "string"
            },
            "text/plain": [
              "'dense_37'"
            ]
          },
          "metadata": {
            "tags": []
          },
          "execution_count": 102
        }
      ]
    },
    {
      "cell_type": "code",
      "metadata": {
        "id": "7N4HekLsU5Yx"
      },
      "source": [
        "weights,biases=model.get_layer(\"dense_39\").get_weights()"
      ],
      "execution_count": 111,
      "outputs": []
    },
    {
      "cell_type": "code",
      "metadata": {
        "colab": {
          "base_uri": "https://localhost:8080/"
        },
        "id": "GMBIXvAaVXSR",
        "outputId": "9f1f2b11-5b2f-4a4c-8d7d-da620c205738"
      },
      "source": [
        "len(weights),len(biases)"
      ],
      "execution_count": 112,
      "outputs": [
        {
          "output_type": "execute_result",
          "data": {
            "text/plain": [
              "(100, 10)"
            ]
          },
          "metadata": {
            "tags": []
          },
          "execution_count": 112
        }
      ]
    },
    {
      "cell_type": "code",
      "metadata": {
        "colab": {
          "base_uri": "https://localhost:8080/"
        },
        "id": "YIQEoVQ8WpjS",
        "outputId": "ae0260d6-2046-4ea9-8175-72776760f853"
      },
      "source": [
        "biases"
      ],
      "execution_count": 113,
      "outputs": [
        {
          "output_type": "execute_result",
          "data": {
            "text/plain": [
              "array([0., 0., 0., 0., 0., 0., 0., 0., 0., 0.], dtype=float32)"
            ]
          },
          "metadata": {
            "tags": []
          },
          "execution_count": 113
        }
      ]
    },
    {
      "cell_type": "code",
      "metadata": {
        "colab": {
          "base_uri": "https://localhost:8080/"
        },
        "id": "c0XTDxsjW_eh",
        "outputId": "784bb04b-1001-4f4f-c8b5-0693a32b8421"
      },
      "source": [
        "weights.shape"
      ],
      "execution_count": 114,
      "outputs": [
        {
          "output_type": "execute_result",
          "data": {
            "text/plain": [
              "(100, 10)"
            ]
          },
          "metadata": {
            "tags": []
          },
          "execution_count": 114
        }
      ]
    },
    {
      "cell_type": "code",
      "metadata": {
        "colab": {
          "base_uri": "https://localhost:8080/"
        },
        "id": "KovN_VoiXCGo",
        "outputId": "07d3f551-37ae-4cce-8cc2-1d14a61e9e6b"
      },
      "source": [
        "##Compiling the model\n",
        "model.compile(loss=\"sparse_categorical_crossentropy\",optimizer=\"sgd\",metrics=[\"accuracy\"])\n",
        "\n",
        "\n",
        "##NOTE..we can use class_weight during model.fit to give more weightage to an under-represented class\n",
        "##we can also use sample_weight to assign that weight to samples instead of the whole class\n",
        "##the params accept a dict..with form as {label1:weight1,label2:weight2}\n",
        "history=model.fit(X_train,y_train,epochs=30,validation_data=(X_valid,y_valid))\n"
      ],
      "execution_count": 115,
      "outputs": [
        {
          "output_type": "stream",
          "text": [
            "Epoch 1/30\n",
            "1719/1719 [==============================] - 6s 3ms/step - loss: 1.0235 - accuracy: 0.6711 - val_loss: 0.5115 - val_accuracy: 0.8270\n",
            "Epoch 2/30\n",
            "1719/1719 [==============================] - 5s 3ms/step - loss: 0.5133 - accuracy: 0.8202 - val_loss: 0.4424 - val_accuracy: 0.8538\n",
            "Epoch 3/30\n",
            "1719/1719 [==============================] - 5s 3ms/step - loss: 0.4549 - accuracy: 0.8410 - val_loss: 0.4419 - val_accuracy: 0.8458\n",
            "Epoch 4/30\n",
            "1719/1719 [==============================] - 5s 3ms/step - loss: 0.4260 - accuracy: 0.8493 - val_loss: 0.3993 - val_accuracy: 0.8596\n",
            "Epoch 5/30\n",
            "1719/1719 [==============================] - 5s 3ms/step - loss: 0.4001 - accuracy: 0.8593 - val_loss: 0.3904 - val_accuracy: 0.8646\n",
            "Epoch 6/30\n",
            "1719/1719 [==============================] - 5s 3ms/step - loss: 0.3797 - accuracy: 0.8668 - val_loss: 0.3691 - val_accuracy: 0.8746\n",
            "Epoch 7/30\n",
            "1719/1719 [==============================] - 5s 3ms/step - loss: 0.3664 - accuracy: 0.8694 - val_loss: 0.3948 - val_accuracy: 0.8664\n",
            "Epoch 8/30\n",
            "1719/1719 [==============================] - 5s 3ms/step - loss: 0.3557 - accuracy: 0.8740 - val_loss: 0.3715 - val_accuracy: 0.8716\n",
            "Epoch 9/30\n",
            "1719/1719 [==============================] - 5s 3ms/step - loss: 0.3501 - accuracy: 0.8768 - val_loss: 0.3487 - val_accuracy: 0.8752\n",
            "Epoch 10/30\n",
            "1719/1719 [==============================] - 5s 3ms/step - loss: 0.3396 - accuracy: 0.8799 - val_loss: 0.3418 - val_accuracy: 0.8796\n",
            "Epoch 11/30\n",
            "1719/1719 [==============================] - 5s 3ms/step - loss: 0.3247 - accuracy: 0.8848 - val_loss: 0.3396 - val_accuracy: 0.8832\n",
            "Epoch 12/30\n",
            "1719/1719 [==============================] - 5s 3ms/step - loss: 0.3232 - accuracy: 0.8839 - val_loss: 0.3422 - val_accuracy: 0.8782\n",
            "Epoch 13/30\n",
            "1719/1719 [==============================] - 5s 3ms/step - loss: 0.3131 - accuracy: 0.8888 - val_loss: 0.3428 - val_accuracy: 0.8776\n",
            "Epoch 14/30\n",
            "1719/1719 [==============================] - 5s 3ms/step - loss: 0.3060 - accuracy: 0.8909 - val_loss: 0.3253 - val_accuracy: 0.8858\n",
            "Epoch 15/30\n",
            "1719/1719 [==============================] - 5s 3ms/step - loss: 0.2959 - accuracy: 0.8937 - val_loss: 0.3223 - val_accuracy: 0.8834\n",
            "Epoch 16/30\n",
            "1719/1719 [==============================] - 5s 3ms/step - loss: 0.2994 - accuracy: 0.8928 - val_loss: 0.3175 - val_accuracy: 0.8898\n",
            "Epoch 17/30\n",
            "1719/1719 [==============================] - 5s 3ms/step - loss: 0.2876 - accuracy: 0.8976 - val_loss: 0.3205 - val_accuracy: 0.8848\n",
            "Epoch 18/30\n",
            "1719/1719 [==============================] - 5s 3ms/step - loss: 0.2823 - accuracy: 0.8983 - val_loss: 0.3267 - val_accuracy: 0.8852\n",
            "Epoch 19/30\n",
            "1719/1719 [==============================] - 5s 3ms/step - loss: 0.2784 - accuracy: 0.9001 - val_loss: 0.3133 - val_accuracy: 0.8858\n",
            "Epoch 20/30\n",
            "1719/1719 [==============================] - 5s 3ms/step - loss: 0.2687 - accuracy: 0.9026 - val_loss: 0.3072 - val_accuracy: 0.8860\n",
            "Epoch 21/30\n",
            "1719/1719 [==============================] - 5s 3ms/step - loss: 0.2693 - accuracy: 0.9021 - val_loss: 0.3136 - val_accuracy: 0.8876\n",
            "Epoch 22/30\n",
            "1719/1719 [==============================] - 5s 3ms/step - loss: 0.2632 - accuracy: 0.9062 - val_loss: 0.3069 - val_accuracy: 0.8910\n",
            "Epoch 23/30\n",
            "1719/1719 [==============================] - 5s 3ms/step - loss: 0.2571 - accuracy: 0.9084 - val_loss: 0.3237 - val_accuracy: 0.8844\n",
            "Epoch 24/30\n",
            "1719/1719 [==============================] - 5s 3ms/step - loss: 0.2492 - accuracy: 0.9102 - val_loss: 0.3021 - val_accuracy: 0.8876\n",
            "Epoch 25/30\n",
            "1719/1719 [==============================] - 5s 3ms/step - loss: 0.2498 - accuracy: 0.9102 - val_loss: 0.2993 - val_accuracy: 0.8898\n",
            "Epoch 26/30\n",
            "1719/1719 [==============================] - 5s 3ms/step - loss: 0.2463 - accuracy: 0.9117 - val_loss: 0.3123 - val_accuracy: 0.8876\n",
            "Epoch 27/30\n",
            "1719/1719 [==============================] - 5s 3ms/step - loss: 0.2396 - accuracy: 0.9139 - val_loss: 0.3171 - val_accuracy: 0.8840\n",
            "Epoch 28/30\n",
            "1719/1719 [==============================] - 5s 3ms/step - loss: 0.2341 - accuracy: 0.9139 - val_loss: 0.2953 - val_accuracy: 0.8926\n",
            "Epoch 29/30\n",
            "1719/1719 [==============================] - 5s 3ms/step - loss: 0.2325 - accuracy: 0.9165 - val_loss: 0.2921 - val_accuracy: 0.8896\n",
            "Epoch 30/30\n",
            "1719/1719 [==============================] - 5s 3ms/step - loss: 0.2223 - accuracy: 0.9213 - val_loss: 0.3044 - val_accuracy: 0.8838\n"
          ],
          "name": "stdout"
        }
      ]
    },
    {
      "cell_type": "code",
      "metadata": {
        "colab": {
          "base_uri": "https://localhost:8080/",
          "height": 324
        },
        "id": "s2QdTXdtZF7B",
        "outputId": "756fdcf0-63d2-465f-d20c-8854526072aa"
      },
      "source": [
        "import matplotlib.pyplot as plt\n",
        "\n",
        "import pandas as pd\n",
        "\n",
        "pd.DataFrame(history.history).plot(figsize=(8,5))\n",
        "plt.grid(True)\n",
        "plt.gca().set_ylim(0,1)\n",
        "plt.show()"
      ],
      "execution_count": 116,
      "outputs": [
        {
          "output_type": "display_data",
          "data": {
            "image/png": "[encoded data removed]",
            "text/plain": [
              "<Figure size 576x360 with 1 Axes>"
            ]
          },
          "metadata": {
            "tags": [],
            "needs_background": "light"
          }
        }
      ]
    },
    {
      "cell_type": "code",
      "metadata": {
        "colab": {
          "base_uri": "https://localhost:8080/"
        },
        "id": "Pm_7J6cBeRPy",
        "outputId": "42038998-d414-472b-e9a6-a6a092c43678"
      },
      "source": [
        "##CHECKING ON TEST DATA\n",
        "\n",
        "model.evaluate(X_test,y_test)"
      ],
      "execution_count": 117,
      "outputs": [
        {
          "output_type": "stream",
          "text": [
            "313/313 [==============================] - 1s 2ms/step - loss: 55.2255 - accuracy: 0.8576\n"
          ],
          "name": "stdout"
        },
        {
          "output_type": "execute_result",
          "data": {
            "text/plain": [
              "[55.225494384765625, 0.8575999736785889]"
            ]
          },
          "metadata": {
            "tags": []
          },
          "execution_count": 117
        }
      ]
    },
    {
      "cell_type": "code",
      "metadata": {
        "colab": {
          "base_uri": "https://localhost:8080/"
        },
        "id": "qSecPwlNf77Z",
        "outputId": "46119ce9-9dcf-474c-95aa-bf63c1e74db0"
      },
      "source": [
        "##Making predictions\n",
        "X_new=X_test[:3]\n",
        "y_pred=np.argmax(model.predict(X_new),axis=-1)\n",
        "y_pred"
      ],
      "execution_count": 118,
      "outputs": [
        {
          "output_type": "execute_result",
          "data": {
            "text/plain": [
              "array([9, 2, 1])"
            ]
          },
          "metadata": {
            "tags": []
          },
          "execution_count": 118
        }
      ]
    },
    {
      "cell_type": "code",
      "metadata": {
        "id": "XZvpB0UuhAOI"
      },
      "source": [
        "##Regression using Functional API\n",
        "\n",
        "from sklearn.datasets import fetch_california_housing\n",
        "from sklearn.preprocessing import  StandardScaler\n",
        "from sklearn.model_selection import train_test_split\n",
        "\n",
        "\n",
        "housing=fetch_california_housing()\n",
        "\n",
        "X_train_full,X_test,y_train_full,y_test=train_test_split(housing.data,housing.target)\n",
        "X_train,X_valid,y_train,y_valid=train_test_split(X_train_full,y_train_full)\n",
        "\n",
        "scaler=StandardScaler()\n",
        "X_train_scaled=scaler.fit_transform(X_train)\n",
        "X_valid_scaled=scaler.transform(X_valid)\n",
        "X_test_scaled=scaler.transform(X_test)"
      ],
      "execution_count": 120,
      "outputs": []
    },
    {
      "cell_type": "code",
      "metadata": {
        "colab": {
          "base_uri": "https://localhost:8080/"
        },
        "id": "YtxNTJlECY5g",
        "outputId": "65f6aa9d-7296-4e1c-c39a-75b9059c3e49"
      },
      "source": [
        "housing.target[0]"
      ],
      "execution_count": 125,
      "outputs": [
        {
          "output_type": "execute_result",
          "data": {
            "text/plain": [
              "4.526"
            ]
          },
          "metadata": {
            "tags": []
          },
          "execution_count": 125
        }
      ]
    },
    {
      "cell_type": "code",
      "metadata": {
        "colab": {
          "base_uri": "https://localhost:8080/"
        },
        "id": "ey7E_E0kAWEs",
        "outputId": "e0d082d1-2bb6-41fb-fc35-13c5ae5f37d1"
      },
      "source": [
        "model=Sequential([\n",
        "                  Dense(30,activation=\"relu\",input_shape=X_train.shape[1:]),\n",
        "                  Dense(1)\n",
        "])\n",
        "model.compile(loss=\"mse\",optimizer=\"sgd\")\n",
        "history=model.fit(X_train_scaled,y_train,epochs=20,validation_data=(X_valid_scaled,y_valid))"
      ],
      "execution_count": 126,
      "outputs": [
        {
          "output_type": "stream",
          "text": [
            "Epoch 1/20\n",
            "363/363 [==============================] - 1s 2ms/step - loss: 1.2267 - val_loss: 0.7311\n",
            "Epoch 2/20\n",
            "363/363 [==============================] - 0s 1ms/step - loss: 6.9191 - val_loss: 3.8784\n",
            "Epoch 3/20\n",
            "363/363 [==============================] - 0s 1ms/step - loss: 22.6075 - val_loss: 0.6444\n",
            "Epoch 4/20\n",
            "363/363 [==============================] - 0s 1ms/step - loss: 0.6530 - val_loss: 0.5021\n",
            "Epoch 5/20\n",
            "363/363 [==============================] - 0s 1ms/step - loss: 0.4976 - val_loss: 0.4396\n",
            "Epoch 6/20\n",
            "363/363 [==============================] - 0s 1ms/step - loss: 0.4534 - val_loss: 0.4168\n",
            "Epoch 7/20\n",
            "363/363 [==============================] - 0s 1ms/step - loss: 0.4420 - val_loss: 0.4125\n",
            "Epoch 8/20\n",
            "363/363 [==============================] - 0s 1ms/step - loss: 0.4382 - val_loss: 0.3909\n",
            "Epoch 9/20\n",
            "363/363 [==============================] - 0s 1ms/step - loss: 0.4170 - val_loss: 0.3920\n",
            "Epoch 10/20\n",
            "363/363 [==============================] - 1s 1ms/step - loss: 0.3942 - val_loss: 0.3880\n",
            "Epoch 11/20\n",
            "363/363 [==============================] - 0s 1ms/step - loss: 0.4014 - val_loss: 0.3760\n",
            "Epoch 12/20\n",
            "363/363 [==============================] - 0s 1ms/step - loss: 0.3794 - val_loss: 0.3734\n",
            "Epoch 13/20\n",
            "363/363 [==============================] - 0s 1ms/step - loss: 0.4055 - val_loss: 0.3759\n",
            "Epoch 14/20\n",
            "363/363 [==============================] - 0s 1ms/step - loss: 0.3890 - val_loss: 0.5135\n",
            "Epoch 15/20\n",
            "363/363 [==============================] - 0s 1ms/step - loss: 0.3965 - val_loss: 0.3661\n",
            "Epoch 16/20\n",
            "363/363 [==============================] - 0s 1ms/step - loss: 0.3764 - val_loss: 0.3618\n",
            "Epoch 17/20\n",
            "363/363 [==============================] - 0s 1ms/step - loss: 0.3646 - val_loss: 0.3596\n",
            "Epoch 18/20\n",
            "363/363 [==============================] - 0s 1ms/step - loss: 0.4015 - val_loss: 0.3590\n",
            "Epoch 19/20\n",
            "363/363 [==============================] - 0s 1ms/step - loss: 0.3959 - val_loss: 0.3569\n",
            "Epoch 20/20\n",
            "363/363 [==============================] - 0s 1ms/step - loss: 0.3751 - val_loss: 0.3646\n"
          ],
          "name": "stdout"
        }
      ]
    },
    {
      "cell_type": "code",
      "metadata": {
        "id": "oIyvHkACAWHd"
      },
      "source": [
        ""
      ],
      "execution_count": null,
      "outputs": []
    },
    {
      "cell_type": "code",
      "metadata": {
        "id": "KulbMLcIAWKR"
      },
      "source": [
        ""
      ],
      "execution_count": null,
      "outputs": []
    },
    {
      "cell_type": "code",
      "metadata": {
        "id": "kpwT5piKAWNz"
      },
      "source": [
        ""
      ],
      "execution_count": null,
      "outputs": []
    },
    {
      "cell_type": "code",
      "metadata": {
        "colab": {
          "base_uri": "https://localhost:8080/"
        },
        "id": "DgKRSxxskvx8",
        "outputId": "56779510-028c-4020-e29a-aa89cacf8252"
      },
      "source": [
        "X_train.shape[1:]"
      ],
      "execution_count": 59,
      "outputs": [
        {
          "output_type": "execute_result",
          "data": {
            "text/plain": [
              "(8,)"
            ]
          },
          "metadata": {
            "tags": []
          },
          "execution_count": 59
        }
      ]
    },
    {
      "cell_type": "code",
      "metadata": {
        "id": "PCW6eCQvk5oo"
      },
      "source": [
        "from tensorflow.keras.layers import Input,Dense,Concatenate\n",
        "from tensorflow.keras.models import Model\n",
        "##basically a resnet\n",
        "\n",
        "input=Input(shape=X_train.shape[1:])\n",
        "hidden1=Dense(30,activation=\"relu\")(input)\n",
        "hidden2=Dense(30,activation=\"relu\")(hidden1)\n",
        "concat=Concatenate()([input,hidden2])\n",
        "output=Dense(1)(concat)\n",
        "model=Model(inputs=[input],outputs=[output])"
      ],
      "execution_count": 127,
      "outputs": []
    },
    {
      "cell_type": "code",
      "metadata": {
        "colab": {
          "base_uri": "https://localhost:8080/"
        },
        "id": "3x4GEbW1mSSD",
        "outputId": "4874a7c5-1302-48f3-ec4b-8c995ce99fc7"
      },
      "source": [
        "model.summary()"
      ],
      "execution_count": 128,
      "outputs": [
        {
          "output_type": "stream",
          "text": [
            "Model: \"model_8\"\n",
            "__________________________________________________________________________________________________\n",
            "Layer (type)                    Output Shape         Param #     Connected to                     \n",
            "==================================================================================================\n",
            "input_19 (InputLayer)           [(None, 8)]          0                                            \n",
            "__________________________________________________________________________________________________\n",
            "dense_44 (Dense)                (None, 30)           270         input_19[0][0]                   \n",
            "__________________________________________________________________________________________________\n",
            "dense_45 (Dense)                (None, 30)           930         dense_44[0][0]                   \n",
            "__________________________________________________________________________________________________\n",
            "concatenate_10 (Concatenate)    (None, 38)           0           input_19[0][0]                   \n",
            "                                                                 dense_45[0][0]                   \n",
            "__________________________________________________________________________________________________\n",
            "dense_46 (Dense)                (None, 1)            39          concatenate_10[0][0]             \n",
            "==================================================================================================\n",
            "Total params: 1,239\n",
            "Trainable params: 1,239\n",
            "Non-trainable params: 0\n",
            "__________________________________________________________________________________________________\n"
          ],
          "name": "stdout"
        }
      ]
    },
    {
      "cell_type": "code",
      "metadata": {
        "id": "b8tw_Vqnn1eZ"
      },
      "source": [
        "##REST IS SAME AS USUAL...COMPILE >>>FIT>>PREDICT>>\n",
        "\n",
        "##Now in the above scenario the model can learn both deep features(cuz it passes through all them layers) and shallow features(initial ip relations..cuz @the concat stuff)\n",
        "\n",
        "##Now what if we want to learn deep features from a part of our input and deep features from the other part(NOTE:The parts don't have to be mutually exclusive)\n"
      ],
      "execution_count": 129,
      "outputs": []
    },
    {
      "cell_type": "code",
      "metadata": {
        "id": "BKnPh6x4ogKg"
      },
      "source": [
        "input_A=Input(shape=(5,))##(0 to 4)\n",
        "input_B=Input(shape=(6,))##(2 to 7)\n",
        "hidden_1=Dense(30,activation=\"relu\")(input_B)\n",
        "hidden_2=Dense(30,activation=\"relu\")(hidden_1)\n",
        "concat_=Concatenate()([hidden_2,input_A])\n",
        "output_=Dense(1)(concat_)\n",
        "model_1=Model(outputs=[output_],inputs=[input_A,input_B])"
      ],
      "execution_count": 135,
      "outputs": []
    },
    {
      "cell_type": "code",
      "metadata": {
        "colab": {
          "base_uri": "https://localhost:8080/"
        },
        "id": "xVPyXgye6iRM",
        "outputId": "b97f5b8d-8231-49fa-8705-5f9c3115b932"
      },
      "source": [
        "model_1.summary()"
      ],
      "execution_count": 136,
      "outputs": [
        {
          "output_type": "stream",
          "text": [
            "Model: \"model_9\"\n",
            "__________________________________________________________________________________________________\n",
            "Layer (type)                    Output Shape         Param #     Connected to                     \n",
            "==================================================================================================\n",
            "input_21 (InputLayer)           [(None, 6)]          0                                            \n",
            "__________________________________________________________________________________________________\n",
            "dense_47 (Dense)                (None, 30)           210         input_21[0][0]                   \n",
            "__________________________________________________________________________________________________\n",
            "dense_48 (Dense)                (None, 30)           930         dense_47[0][0]                   \n",
            "__________________________________________________________________________________________________\n",
            "input_20 (InputLayer)           [(None, 5)]          0                                            \n",
            "__________________________________________________________________________________________________\n",
            "concatenate_11 (Concatenate)    (None, 35)           0           dense_48[0][0]                   \n",
            "                                                                 input_20[0][0]                   \n",
            "__________________________________________________________________________________________________\n",
            "dense_49 (Dense)                (None, 1)            36          concatenate_11[0][0]             \n",
            "==================================================================================================\n",
            "Total params: 1,176\n",
            "Trainable params: 1,176\n",
            "Non-trainable params: 0\n",
            "__________________________________________________________________________________________________\n"
          ],
          "name": "stdout"
        }
      ]
    },
    {
      "cell_type": "code",
      "metadata": {
        "id": "sDqkuvNcpgNK"
      },
      "source": [
        "##Now since we messed with the input we gotta make some changes\n",
        "X_train_A,X_train_B=X_train_scaled[:,:5],X_train_scaled[:,2:]\n",
        "X_valid_A,X_valid_B=X_valid_scaled[:,:5],X_valid_scaled[:,2:]\n",
        "X_test_A,X_test_B=X_test_scaled[:,:5],X_test_scaled[:,2:]\n",
        "X_new_A,X_new_B=X_test_A[:3],X_test_B[:3]"
      ],
      "execution_count": 137,
      "outputs": []
    },
    {
      "cell_type": "code",
      "metadata": {
        "colab": {
          "base_uri": "https://localhost:8080/"
        },
        "id": "7zU98GBP-GPH",
        "outputId": "6fdfbf07-75b4-4280-c3d4-b7d56a6bae9f"
      },
      "source": [
        "model_1.compile(loss=\"mse\",optimizer=\"sgd\")\n",
        "hs=model_1.fit((X_train_A,X_train_B),y_train,epochs=20,validation_data=((X_valid_A,X_valid_B),y_valid))"
      ],
      "execution_count": 138,
      "outputs": [
        {
          "output_type": "stream",
          "text": [
            "Epoch 1/20\n",
            "363/363 [==============================] - 1s 2ms/step - loss: 1.4409 - val_loss: 0.4778\n",
            "Epoch 2/20\n",
            "363/363 [==============================] - 1s 2ms/step - loss: 0.4991 - val_loss: 0.4531\n",
            "Epoch 3/20\n",
            "363/363 [==============================] - 1s 2ms/step - loss: 0.4886 - val_loss: 0.4371\n",
            "Epoch 4/20\n",
            "363/363 [==============================] - 1s 1ms/step - loss: 0.4692 - val_loss: 0.4302\n",
            "Epoch 5/20\n",
            "363/363 [==============================] - 1s 1ms/step - loss: 0.4561 - val_loss: 0.9721\n",
            "Epoch 6/20\n",
            "363/363 [==============================] - 1s 2ms/step - loss: 0.5666 - val_loss: 0.4112\n",
            "Epoch 7/20\n",
            "363/363 [==============================] - 1s 1ms/step - loss: 0.4356 - val_loss: 0.4038\n",
            "Epoch 8/20\n",
            "363/363 [==============================] - 1s 1ms/step - loss: 0.4248 - val_loss: 0.3993\n",
            "Epoch 9/20\n",
            "363/363 [==============================] - 1s 1ms/step - loss: 0.4110 - val_loss: 0.3951\n",
            "Epoch 10/20\n",
            "363/363 [==============================] - 1s 1ms/step - loss: 0.4320 - val_loss: 0.3912\n",
            "Epoch 11/20\n",
            "363/363 [==============================] - 1s 2ms/step - loss: 0.4132 - val_loss: 0.3835\n",
            "Epoch 12/20\n",
            "363/363 [==============================] - 1s 2ms/step - loss: 0.4205 - val_loss: 0.3766\n",
            "Epoch 13/20\n",
            "363/363 [==============================] - 1s 1ms/step - loss: 0.3981 - val_loss: 0.3711\n",
            "Epoch 14/20\n",
            "363/363 [==============================] - 1s 1ms/step - loss: 0.3793 - val_loss: 0.3638\n",
            "Epoch 15/20\n",
            "363/363 [==============================] - 1s 2ms/step - loss: 0.3942 - val_loss: 0.3566\n",
            "Epoch 16/20\n",
            "363/363 [==============================] - 1s 1ms/step - loss: 0.3822 - val_loss: 0.3612\n",
            "Epoch 17/20\n",
            "363/363 [==============================] - 1s 1ms/step - loss: 0.3724 - val_loss: 0.3456\n",
            "Epoch 18/20\n",
            "363/363 [==============================] - 1s 2ms/step - loss: 0.3666 - val_loss: 0.3428\n",
            "Epoch 19/20\n",
            "363/363 [==============================] - 1s 1ms/step - loss: 0.3732 - val_loss: 0.3487\n",
            "Epoch 20/20\n",
            "363/363 [==============================] - 1s 1ms/step - loss: 0.3523 - val_loss: 0.3512\n"
          ],
          "name": "stdout"
        }
      ]
    },
    {
      "cell_type": "code",
      "metadata": {
        "id": "rjCDU5xU-GSO"
      },
      "source": [
        ""
      ],
      "execution_count": null,
      "outputs": []
    },
    {
      "cell_type": "code",
      "metadata": {
        "id": "lSOv96bGqlfw"
      },
      "source": [
        "##WHAT IF WE WANT MULTIPLE INPUTS AND MULTIPLE OUTPUTS\n",
        "\n",
        "inputA=Input(shape=(5,))\n",
        "inputB=Input(shape=(6,))\n",
        "hiddenOne=Dense(30,activation=\"relu\")(inputB)\n",
        "hiddenTwo=Dense(30,activation=\"relu\")(hiddenOne)\n",
        "auxOp=Dense(1)(hiddenTwo)\n",
        "concatLayer=Concatenate()([hiddenTwo,inputA])\n",
        "op=Dense(1)(concatLayer)\n",
        "model_multi_op=Model(inputs=[inputA,inputB],outputs=[op,auxOp])"
      ],
      "execution_count": 139,
      "outputs": []
    },
    {
      "cell_type": "code",
      "metadata": {
        "colab": {
          "base_uri": "https://localhost:8080/"
        },
        "id": "VOqFvlRr5tiM",
        "outputId": "86724513-31ba-4e0a-a103-5d0c7e57cff3"
      },
      "source": [
        "model_multi_op.summary()"
      ],
      "execution_count": 140,
      "outputs": [
        {
          "output_type": "stream",
          "text": [
            "Model: \"model_10\"\n",
            "__________________________________________________________________________________________________\n",
            "Layer (type)                    Output Shape         Param #     Connected to                     \n",
            "==================================================================================================\n",
            "input_23 (InputLayer)           [(None, 6)]          0                                            \n",
            "__________________________________________________________________________________________________\n",
            "dense_50 (Dense)                (None, 30)           210         input_23[0][0]                   \n",
            "__________________________________________________________________________________________________\n",
            "dense_51 (Dense)                (None, 30)           930         dense_50[0][0]                   \n",
            "__________________________________________________________________________________________________\n",
            "input_22 (InputLayer)           [(None, 5)]          0                                            \n",
            "__________________________________________________________________________________________________\n",
            "concatenate_12 (Concatenate)    (None, 35)           0           dense_51[0][0]                   \n",
            "                                                                 input_22[0][0]                   \n",
            "__________________________________________________________________________________________________\n",
            "dense_53 (Dense)                (None, 1)            36          concatenate_12[0][0]             \n",
            "__________________________________________________________________________________________________\n",
            "dense_52 (Dense)                (None, 1)            31          dense_51[0][0]                   \n",
            "==================================================================================================\n",
            "Total params: 1,207\n",
            "Trainable params: 1,207\n",
            "Non-trainable params: 0\n",
            "__________________________________________________________________________________________________\n"
          ],
          "name": "stdout"
        }
      ]
    },
    {
      "cell_type": "code",
      "metadata": {
        "colab": {
          "base_uri": "https://localhost:8080/"
        },
        "id": "csXOC9KG6AxA",
        "outputId": "5aea025c-2fb1-45c7-9dae-fc0eae1dd7e2"
      },
      "source": [
        "##NOTE...each output will now need it's own loss function.By default keras will compute the individual losses of the ops but we can use loss_weights to \n",
        "##have more control over how important a particular loss is\n",
        "\n",
        "model_multi_op.compile(loss=[\"mse\",\"mse\"],loss_weights=[0.9,0.1],optimizer=\"sgd\")\n",
        "\n",
        "hiStory=model_multi_op.fit([X_train_A,X_train_B],[y_train,y_train],epochs=20,validation_data=([X_valid_A,X_valid_B],[y_valid,y_valid]))"
      ],
      "execution_count": 141,
      "outputs": [
        {
          "output_type": "stream",
          "text": [
            "Epoch 1/20\n",
            "363/363 [==============================] - 1s 2ms/step - loss: 1.9359 - dense_53_loss: 1.7351 - dense_52_loss: 3.7428 - val_loss: 0.6058 - val_dense_53_loss: 0.5377 - val_dense_52_loss: 1.2189\n",
            "Epoch 2/20\n",
            "363/363 [==============================] - 1s 2ms/step - loss: 0.6241 - dense_53_loss: 0.5552 - dense_52_loss: 1.2438 - val_loss: 0.5406 - val_dense_53_loss: 0.4830 - val_dense_52_loss: 1.0587\n",
            "Epoch 3/20\n",
            "363/363 [==============================] - 1s 2ms/step - loss: 0.5514 - dense_53_loss: 0.4934 - dense_52_loss: 1.0739 - val_loss: 0.4994 - val_dense_53_loss: 0.4526 - val_dense_52_loss: 0.9208\n",
            "Epoch 4/20\n",
            "363/363 [==============================] - 1s 2ms/step - loss: 0.5245 - dense_53_loss: 0.4769 - dense_52_loss: 0.9533 - val_loss: 0.4755 - val_dense_53_loss: 0.4386 - val_dense_52_loss: 0.8073\n",
            "Epoch 5/20\n",
            "363/363 [==============================] - 1s 2ms/step - loss: 0.4891 - dense_53_loss: 0.4519 - dense_52_loss: 0.8241 - val_loss: 0.4587 - val_dense_53_loss: 0.4282 - val_dense_52_loss: 0.7334\n",
            "Epoch 6/20\n",
            "363/363 [==============================] - 1s 2ms/step - loss: 0.5193 - dense_53_loss: 0.4922 - dense_52_loss: 0.7625 - val_loss: 0.4453 - val_dense_53_loss: 0.4191 - val_dense_52_loss: 0.6808\n",
            "Epoch 7/20\n",
            "363/363 [==============================] - 1s 2ms/step - loss: 0.4824 - dense_53_loss: 0.4555 - dense_52_loss: 0.7251 - val_loss: 0.4365 - val_dense_53_loss: 0.4138 - val_dense_52_loss: 0.6412\n",
            "Epoch 8/20\n",
            "363/363 [==============================] - 1s 2ms/step - loss: 0.4720 - dense_53_loss: 0.4486 - dense_52_loss: 0.6827 - val_loss: 0.4237 - val_dense_53_loss: 0.4030 - val_dense_52_loss: 0.6094\n",
            "Epoch 9/20\n",
            "363/363 [==============================] - 1s 2ms/step - loss: 0.4650 - dense_53_loss: 0.4439 - dense_52_loss: 0.6548 - val_loss: 0.4178 - val_dense_53_loss: 0.3992 - val_dense_52_loss: 0.5859\n",
            "Epoch 10/20\n",
            "363/363 [==============================] - 1s 2ms/step - loss: 0.4399 - dense_53_loss: 0.4176 - dense_52_loss: 0.6410 - val_loss: 0.4164 - val_dense_53_loss: 0.3991 - val_dense_52_loss: 0.5720\n",
            "Epoch 11/20\n",
            "363/363 [==============================] - 1s 2ms/step - loss: 0.4325 - dense_53_loss: 0.4131 - dense_52_loss: 0.6074 - val_loss: 0.4012 - val_dense_53_loss: 0.3840 - val_dense_52_loss: 0.5554\n",
            "Epoch 12/20\n",
            "363/363 [==============================] - 1s 2ms/step - loss: 0.4069 - dense_53_loss: 0.3887 - dense_52_loss: 0.5706 - val_loss: 0.3971 - val_dense_53_loss: 0.3806 - val_dense_52_loss: 0.5451\n",
            "Epoch 13/20\n",
            "363/363 [==============================] - 1s 2ms/step - loss: 0.4189 - dense_53_loss: 0.4025 - dense_52_loss: 0.5662 - val_loss: 0.3822 - val_dense_53_loss: 0.3663 - val_dense_52_loss: 0.5255\n",
            "Epoch 14/20\n",
            "363/363 [==============================] - 1s 2ms/step - loss: 0.4119 - dense_53_loss: 0.3949 - dense_52_loss: 0.5648 - val_loss: 0.4158 - val_dense_53_loss: 0.4047 - val_dense_52_loss: 0.5154\n",
            "Epoch 15/20\n",
            "363/363 [==============================] - 1s 2ms/step - loss: 0.4168 - dense_53_loss: 0.4012 - dense_52_loss: 0.5574 - val_loss: 0.3711 - val_dense_53_loss: 0.3561 - val_dense_52_loss: 0.5063\n",
            "Epoch 16/20\n",
            "363/363 [==============================] - 1s 2ms/step - loss: 0.3802 - dense_53_loss: 0.3643 - dense_52_loss: 0.5234 - val_loss: 0.3790 - val_dense_53_loss: 0.3649 - val_dense_52_loss: 0.5052\n",
            "Epoch 17/20\n",
            "363/363 [==============================] - 1s 2ms/step - loss: 0.4145 - dense_53_loss: 0.4012 - dense_52_loss: 0.5340 - val_loss: 0.3656 - val_dense_53_loss: 0.3517 - val_dense_52_loss: 0.4909\n",
            "Epoch 18/20\n",
            "363/363 [==============================] - 1s 2ms/step - loss: 0.3957 - dense_53_loss: 0.3807 - dense_52_loss: 0.5313 - val_loss: 0.3570 - val_dense_53_loss: 0.3435 - val_dense_52_loss: 0.4788\n",
            "Epoch 19/20\n",
            "363/363 [==============================] - 1s 2ms/step - loss: 0.3784 - dense_53_loss: 0.3637 - dense_52_loss: 0.5108 - val_loss: 0.3555 - val_dense_53_loss: 0.3426 - val_dense_52_loss: 0.4721\n",
            "Epoch 20/20\n",
            "363/363 [==============================] - 1s 2ms/step - loss: 0.3792 - dense_53_loss: 0.3653 - dense_52_loss: 0.5046 - val_loss: 0.3465 - val_dense_53_loss: 0.3336 - val_dense_52_loss: 0.4624\n"
          ],
          "name": "stdout"
        }
      ]
    },
    {
      "cell_type": "code",
      "metadata": {
        "colab": {
          "base_uri": "https://localhost:8080/"
        },
        "id": "d2-CnBgA7yZK",
        "outputId": "b894735e-0187-4a8a-9489-409de2ddae6d"
      },
      "source": [
        "X_train_A[0]"
      ],
      "execution_count": 142,
      "outputs": [
        {
          "output_type": "execute_result",
          "data": {
            "text/plain": [
              "array([ 2.37324825, -1.01023973,  0.87517763, -0.2226037 ,  0.39147811])"
            ]
          },
          "metadata": {
            "tags": []
          },
          "execution_count": 142
        }
      ]
    },
    {
      "cell_type": "code",
      "metadata": {
        "id": "9mlA5yW588Tw"
      },
      "source": [
        "y_pred_main,y_pred_aux=model_multi_op.predict([X_new_A,X_new_B])"
      ],
      "execution_count": 143,
      "outputs": []
    },
    {
      "cell_type": "code",
      "metadata": {
        "colab": {
          "base_uri": "https://localhost:8080/"
        },
        "id": "r7zmeGi_9Io_",
        "outputId": "f746cd69-c43d-42c6-aa85-6bdd9008772f"
      },
      "source": [
        "y_pred_main"
      ],
      "execution_count": 146,
      "outputs": [
        {
          "output_type": "execute_result",
          "data": {
            "text/plain": [
              "array([[2.2549722],\n",
              "       [3.055324 ],\n",
              "       [1.4203308]], dtype=float32)"
            ]
          },
          "metadata": {
            "tags": []
          },
          "execution_count": 146
        }
      ]
    },
    {
      "cell_type": "code",
      "metadata": {
        "colab": {
          "base_uri": "https://localhost:8080/"
        },
        "id": "MRflRk449Lxo",
        "outputId": "5c4e036b-ad2c-4aaf-c400-e932325454a2"
      },
      "source": [
        "y_test[:3]"
      ],
      "execution_count": 148,
      "outputs": [
        {
          "output_type": "execute_result",
          "data": {
            "text/plain": [
              "array([2.651, 4.319, 1.393])"
            ]
          },
          "metadata": {
            "tags": []
          },
          "execution_count": 148
        }
      ]
    },
    {
      "cell_type": "code",
      "metadata": {
        "id": "3YRsc1nKGSxH"
      },
      "source": [
        "##Both the sequential and functional api create models in a static manner\n",
        "##For Dynamic models we can use SubClassing Api\n",
        "\n",
        "class WideAndDeepModel(Model):\n",
        "  def __init__(self,units=30,activation=\"relu\",**kwargs):\n",
        "    super().__init__(**kwargs)\n",
        "    self.hidden1=Dense(units,activation=activation)\n",
        "    self.hidden2=Dense(units,activation=activation)\n",
        "    self.main_output=Dense(1)\n",
        "    self.aux_output=Dense(1)\n",
        "\n",
        "  def call(self,inputs):\n",
        "    ##YOU CAN GO CRAZY HERE\n",
        "    input_A,input_B=inputs\n",
        "    hidden1=self.hidden1(input_B)\n",
        "    hidden2=self.hidden2(hidden1)\n",
        "    concat=concatenate()([input_A,hidden2])\n",
        "    main_output=self.main_output(concat)\n",
        "    aux_output=self.aux_output(hidden2)\n",
        "    return main_output,aux_output  \n",
        "\n",
        "##CONS:model architecture wont be visible\n",
        "##wont be shown which layer is conected to which"
      ],
      "execution_count": 149,
      "outputs": []
    },
    {
      "cell_type": "code",
      "metadata": {
        "id": "PHcnJaqzVJII"
      },
      "source": [
        "##SAving the model\n",
        "model_multi_op.save(\"helloWorld.h5\")"
      ],
      "execution_count": 150,
      "outputs": []
    },
    {
      "cell_type": "code",
      "metadata": {
        "id": "xB-KE0DgVN-H"
      },
      "source": [
        "##LOADING\n",
        "hW=keras.models.load_model(\"helloWorld.h5\")"
      ],
      "execution_count": 151,
      "outputs": []
    },
    {
      "cell_type": "code",
      "metadata": {
        "colab": {
          "base_uri": "https://localhost:8080/"
        },
        "id": "Ahai89ZDVYMm",
        "outputId": "8adfa389-038e-42b1-9e64-f619261134b3"
      },
      "source": [
        "hW.summary()"
      ],
      "execution_count": 153,
      "outputs": [
        {
          "output_type": "stream",
          "text": [
            "Model: \"model_10\"\n",
            "__________________________________________________________________________________________________\n",
            "Layer (type)                    Output Shape         Param #     Connected to                     \n",
            "==================================================================================================\n",
            "input_23 (InputLayer)           [(None, 6)]          0                                            \n",
            "__________________________________________________________________________________________________\n",
            "dense_50 (Dense)                (None, 30)           210         input_23[0][0]                   \n",
            "__________________________________________________________________________________________________\n",
            "dense_51 (Dense)                (None, 30)           930         dense_50[0][0]                   \n",
            "__________________________________________________________________________________________________\n",
            "input_22 (InputLayer)           [(None, 5)]          0                                            \n",
            "__________________________________________________________________________________________________\n",
            "concatenate_12 (Concatenate)    (None, 35)           0           dense_51[0][0]                   \n",
            "                                                                 input_22[0][0]                   \n",
            "__________________________________________________________________________________________________\n",
            "dense_53 (Dense)                (None, 1)            36          concatenate_12[0][0]             \n",
            "__________________________________________________________________________________________________\n",
            "dense_52 (Dense)                (None, 1)            31          dense_51[0][0]                   \n",
            "==================================================================================================\n",
            "Total params: 1,207\n",
            "Trainable params: 1,207\n",
            "Non-trainable params: 0\n",
            "__________________________________________________________________________________________________\n"
          ],
          "name": "stdout"
        }
      ]
    },
    {
      "cell_type": "code",
      "metadata": {
        "id": "34zWNS5bVZ3G"
      },
      "source": [
        "##Callbacks--->pings @ b4 and end of training\n",
        "##------------------->b4 and end of epoch\n",
        "##-------------------->b4 after processing each batch\n",
        "\n",
        "##ModelCheckpoint callback->saves checkpoints of your Model at regular intervals during training at the end of each epoch\n",
        "\n",
        "checkpoint_cb=tf.keras.callbacks.ModelCheckpoint(\n",
        "    \"my_keras_model.h5\",\n",
        "    save_weights_only=True,\n",
        "    monitor='val_accuracy',\n",
        "    mode='max',\n",
        "    save_best_only=True)\n",
        "\n",
        "##EARLY STOPPING CALLBACK\n",
        "early_stopping_cb=tf.keras.callbacks.EarlyStopping(patience=10,restore_best_weights=True)\n",
        "\n",
        "#history=model.fit(X_train,y_train,epochs=100,validation_data=(X_valid,y_valid),callbacks=[checkpoint_cb,early_stopping_cb])\n",
        "\n",
        "\n",
        "##CUSTOM CALLBACK\n",
        "\n",
        "class printValTrainRatioCallback(tf.keras.callbacks.Callback):\n",
        "  def on_epoch_end(self,epoch,logs):\n",
        "    print(logs[\"val_loss\"]/logs[\"loss\"])"
      ],
      "execution_count": 155,
      "outputs": []
    },
    {
      "cell_type": "code",
      "metadata": {
        "colab": {
          "base_uri": "https://localhost:8080/"
        },
        "id": "UPEdPsMjabG6",
        "outputId": "febf3a69-aef3-4ab4-8dd6-dafe04d68a6c"
      },
      "source": [
        "##VISUALIZING USING TENSORBOARD\n",
        "#history=model.fit(X_train_scaled,y_train,epochs=20,validation_data=(X_valid_scaled,y_valid))\n",
        "\n",
        "import os\n",
        "\n",
        "root_logdir=os.path.join(os.curdir,\"my_logs\")\n",
        "\n",
        "def get_run_logdir():\n",
        "  import time\n",
        "  run_id=time.strftime(\"run_%Y_%m_%d-%H_%M_%S\")\n",
        "  return os.path.join(root_logdir,run_id)\n",
        "\n",
        "run_logdir=get_run_logdir()\n",
        "##NOTE---Keras provides a tensorboard callback\n",
        "\n",
        "\n",
        "tensorboard_cb=tf.keras.callbacks.TensorBoard(run_logdir)\n",
        "model.compile(loss=\"mse\",optimizer=\"sgd\")\n",
        "history=model.fit(X_train_scaled,y_train,epochs=20,validation_data=(X_valid_scaled,y_valid),callbacks=[tensorboard_cb])\n"
      ],
      "execution_count": 158,
      "outputs": [
        {
          "output_type": "stream",
          "text": [
            "Epoch 1/20\n",
            "363/363 [==============================] - 1s 2ms/step - loss: 2.4768 - val_loss: 0.5761\n",
            "Epoch 2/20\n",
            "363/363 [==============================] - 0s 1ms/step - loss: nan - val_loss: nan\n",
            "Epoch 3/20\n",
            "363/363 [==============================] - 1s 1ms/step - loss: nan - val_loss: nan\n",
            "Epoch 4/20\n",
            "363/363 [==============================] - 0s 1ms/step - loss: nan - val_loss: nan\n",
            "Epoch 5/20\n",
            "363/363 [==============================] - 1s 1ms/step - loss: nan - val_loss: nan\n",
            "Epoch 6/20\n",
            "363/363 [==============================] - 1s 1ms/step - loss: nan - val_loss: nan\n",
            "Epoch 7/20\n",
            "363/363 [==============================] - 1s 1ms/step - loss: nan - val_loss: nan\n",
            "Epoch 8/20\n",
            "363/363 [==============================] - 0s 1ms/step - loss: nan - val_loss: nan\n",
            "Epoch 9/20\n",
            "363/363 [==============================] - 1s 1ms/step - loss: nan - val_loss: nan\n",
            "Epoch 10/20\n",
            "363/363 [==============================] - 0s 1ms/step - loss: nan - val_loss: nan\n",
            "Epoch 11/20\n",
            "363/363 [==============================] - 0s 1ms/step - loss: nan - val_loss: nan\n",
            "Epoch 12/20\n",
            "363/363 [==============================] - 1s 1ms/step - loss: nan - val_loss: nan\n",
            "Epoch 13/20\n",
            "363/363 [==============================] - 1s 1ms/step - loss: nan - val_loss: nan\n",
            "Epoch 14/20\n",
            "363/363 [==============================] - 1s 1ms/step - loss: nan - val_loss: nan\n",
            "Epoch 15/20\n",
            "363/363 [==============================] - 0s 1ms/step - loss: nan - val_loss: nan\n",
            "Epoch 16/20\n",
            "363/363 [==============================] - 0s 1ms/step - loss: nan - val_loss: nan\n",
            "Epoch 17/20\n",
            "363/363 [==============================] - 1s 1ms/step - loss: nan - val_loss: nan\n",
            "Epoch 18/20\n",
            "363/363 [==============================] - 1s 1ms/step - loss: nan - val_loss: nan\n",
            "Epoch 19/20\n",
            "363/363 [==============================] - 1s 1ms/step - loss: nan - val_loss: nan\n",
            "Epoch 20/20\n",
            "363/363 [==============================] - 1s 1ms/step - loss: nan - val_loss: nan\n"
          ],
          "name": "stdout"
        }
      ]
    },
    {
      "cell_type": "code",
      "metadata": {
        "colab": {
          "base_uri": "https://localhost:8080/"
        },
        "id": "1bKLLWfphcNA",
        "outputId": "cc63b85e-16f3-4e95-cb1c-a5e56a720ff5"
      },
      "source": [
        "##HyperParameter Tuning\n",
        "\n",
        "def build_model(n_hidden=1,n_neurons=30,learning_rate=3e-3,input_shape=(8,)):\n",
        "  model=Sequential()\n",
        "  options={\"input_shape\":input_shape}\n",
        "  for layer in range(n_hidden):\n",
        "    model.add(Dense(n_neurons,activation=\"relu\",**options))\n",
        "    options={}\n",
        "  model.add(Dense(1,**options))\n",
        "  model.compile(loss=\"mse\",optimizer=tf.keras.optimizers.SGD(learning_rate=learning_rate))\n",
        "  return model\n",
        "\n",
        "\n",
        "##We will wrap the model returned by build_model so that we can use the goodies used by scikit learn\n",
        "\n",
        "keras_reg=tf.keras.wrappers.scikit_learn.KerasRegressor(build_model)\n",
        "\n",
        "\n",
        "keras_reg.fit(X_train_scaled,y_train,epochs=100,validation_data=(X_valid_scaled,y_valid),callbacks=[tf.keras.callbacks.EarlyStopping(\n",
        "    patience=10\n",
        ")])"
      ],
      "execution_count": 159,
      "outputs": [
        {
          "output_type": "stream",
          "text": [
            "Epoch 1/100\n",
            "363/363 [==============================] - 1s 2ms/step - loss: 2.1206 - val_loss: 0.6297\n",
            "Epoch 2/100\n",
            "363/363 [==============================] - 0s 1ms/step - loss: 0.7613 - val_loss: 0.5673\n",
            "Epoch 3/100\n",
            "363/363 [==============================] - 1s 1ms/step - loss: 0.6191 - val_loss: 0.5215\n",
            "Epoch 4/100\n",
            "363/363 [==============================] - 1s 1ms/step - loss: 0.5623 - val_loss: 0.5000\n",
            "Epoch 5/100\n",
            "363/363 [==============================] - 0s 1ms/step - loss: 0.5214 - val_loss: 0.4836\n",
            "Epoch 6/100\n",
            "363/363 [==============================] - 0s 1ms/step - loss: 0.5052 - val_loss: 0.4746\n",
            "Epoch 7/100\n",
            "363/363 [==============================] - 0s 1ms/step - loss: 0.4900 - val_loss: 0.4657\n",
            "Epoch 8/100\n",
            "363/363 [==============================] - 0s 1ms/step - loss: 0.4663 - val_loss: 0.4612\n",
            "Epoch 9/100\n",
            "363/363 [==============================] - 1s 1ms/step - loss: 0.4958 - val_loss: 0.4555\n",
            "Epoch 10/100\n",
            "363/363 [==============================] - 1s 1ms/step - loss: 0.4810 - val_loss: 0.4509\n",
            "Epoch 11/100\n",
            "363/363 [==============================] - 1s 1ms/step - loss: 0.4644 - val_loss: 0.4466\n",
            "Epoch 12/100\n",
            "363/363 [==============================] - 1s 1ms/step - loss: 0.4677 - val_loss: 0.4428\n",
            "Epoch 13/100\n",
            "363/363 [==============================] - 1s 1ms/step - loss: 0.4578 - val_loss: 0.4386\n",
            "Epoch 14/100\n",
            "363/363 [==============================] - 1s 1ms/step - loss: 0.4516 - val_loss: 0.4354\n",
            "Epoch 15/100\n",
            "363/363 [==============================] - 0s 1ms/step - loss: 0.4584 - val_loss: 0.4324\n",
            "Epoch 16/100\n",
            "363/363 [==============================] - 1s 1ms/step - loss: 0.4369 - val_loss: 0.4298\n",
            "Epoch 17/100\n",
            "363/363 [==============================] - 0s 1ms/step - loss: 0.4358 - val_loss: 0.4279\n",
            "Epoch 18/100\n",
            "363/363 [==============================] - 0s 1ms/step - loss: 0.4414 - val_loss: 0.4252\n",
            "Epoch 19/100\n",
            "363/363 [==============================] - 0s 1ms/step - loss: 0.4223 - val_loss: 0.4220\n",
            "Epoch 20/100\n",
            "363/363 [==============================] - 0s 1ms/step - loss: 0.4437 - val_loss: 0.4196\n",
            "Epoch 21/100\n",
            "363/363 [==============================] - 1s 1ms/step - loss: 0.4366 - val_loss: 0.4181\n",
            "Epoch 22/100\n",
            "363/363 [==============================] - 1s 1ms/step - loss: 0.4403 - val_loss: 0.4157\n",
            "Epoch 23/100\n",
            "363/363 [==============================] - 1s 1ms/step - loss: 0.4298 - val_loss: 0.4131\n",
            "Epoch 24/100\n",
            "363/363 [==============================] - 1s 1ms/step - loss: 0.4169 - val_loss: 0.4131\n",
            "Epoch 25/100\n",
            "363/363 [==============================] - 0s 1ms/step - loss: 0.4213 - val_loss: 0.4104\n",
            "Epoch 26/100\n",
            "363/363 [==============================] - 0s 1ms/step - loss: 0.4242 - val_loss: 0.4092\n",
            "Epoch 27/100\n",
            "363/363 [==============================] - 0s 1ms/step - loss: 0.4275 - val_loss: 0.4071\n",
            "Epoch 28/100\n",
            "363/363 [==============================] - 0s 1ms/step - loss: 0.4206 - val_loss: 0.4041\n",
            "Epoch 29/100\n",
            "363/363 [==============================] - 0s 1ms/step - loss: 0.4385 - val_loss: 0.4034\n",
            "Epoch 30/100\n",
            "363/363 [==============================] - 0s 1ms/step - loss: 0.3969 - val_loss: 0.4019\n",
            "Epoch 31/100\n",
            "363/363 [==============================] - 0s 1ms/step - loss: 0.4245 - val_loss: 0.4000\n",
            "Epoch 32/100\n",
            "363/363 [==============================] - 1s 1ms/step - loss: 0.4216 - val_loss: 0.4008\n",
            "Epoch 33/100\n",
            "363/363 [==============================] - 1s 1ms/step - loss: 0.4220 - val_loss: 0.3972\n",
            "Epoch 34/100\n",
            "363/363 [==============================] - 1s 1ms/step - loss: 0.4139 - val_loss: 0.3973\n",
            "Epoch 35/100\n",
            "363/363 [==============================] - 0s 1ms/step - loss: 0.4257 - val_loss: 0.3957\n",
            "Epoch 36/100\n",
            "363/363 [==============================] - 0s 1ms/step - loss: 0.4167 - val_loss: 0.3940\n",
            "Epoch 37/100\n",
            "363/363 [==============================] - 1s 1ms/step - loss: 0.4172 - val_loss: 0.3927\n",
            "Epoch 38/100\n",
            "363/363 [==============================] - 1s 1ms/step - loss: 0.4174 - val_loss: 0.3912\n",
            "Epoch 39/100\n",
            "363/363 [==============================] - 1s 1ms/step - loss: 0.4053 - val_loss: 0.3901\n",
            "Epoch 40/100\n",
            "363/363 [==============================] - 1s 1ms/step - loss: 0.4113 - val_loss: 0.3914\n",
            "Epoch 41/100\n",
            "363/363 [==============================] - 1s 1ms/step - loss: 0.4147 - val_loss: 0.3881\n",
            "Epoch 42/100\n",
            "363/363 [==============================] - 1s 1ms/step - loss: 0.3908 - val_loss: 0.3854\n",
            "Epoch 43/100\n",
            "363/363 [==============================] - 1s 1ms/step - loss: 0.3995 - val_loss: 0.3842\n",
            "Epoch 44/100\n",
            "363/363 [==============================] - 0s 1ms/step - loss: 0.4043 - val_loss: 0.3834\n",
            "Epoch 45/100\n",
            "363/363 [==============================] - 0s 1ms/step - loss: 0.3936 - val_loss: 0.3817\n",
            "Epoch 46/100\n",
            "363/363 [==============================] - 0s 1ms/step - loss: 0.3879 - val_loss: 0.3818\n",
            "Epoch 47/100\n",
            "363/363 [==============================] - 0s 1ms/step - loss: 0.3940 - val_loss: 0.3795\n",
            "Epoch 48/100\n",
            "363/363 [==============================] - 0s 1ms/step - loss: 0.3990 - val_loss: 0.3795\n",
            "Epoch 49/100\n",
            "363/363 [==============================] - 0s 1ms/step - loss: 0.4081 - val_loss: 0.3795\n",
            "Epoch 50/100\n",
            "363/363 [==============================] - 1s 1ms/step - loss: 0.4005 - val_loss: 0.3759\n",
            "Epoch 51/100\n",
            "363/363 [==============================] - 1s 1ms/step - loss: 0.3837 - val_loss: 0.3771\n",
            "Epoch 52/100\n",
            "363/363 [==============================] - 0s 1ms/step - loss: 0.4069 - val_loss: 0.3744\n",
            "Epoch 53/100\n",
            "363/363 [==============================] - 0s 1ms/step - loss: 0.3918 - val_loss: 0.3755\n",
            "Epoch 54/100\n",
            "363/363 [==============================] - 0s 1ms/step - loss: 0.3928 - val_loss: 0.3731\n",
            "Epoch 55/100\n",
            "363/363 [==============================] - 0s 1ms/step - loss: 0.3890 - val_loss: 0.3705\n",
            "Epoch 56/100\n",
            "363/363 [==============================] - 0s 1ms/step - loss: 0.3809 - val_loss: 0.3719\n",
            "Epoch 57/100\n",
            "363/363 [==============================] - 1s 1ms/step - loss: 0.3886 - val_loss: 0.3698\n",
            "Epoch 58/100\n",
            "363/363 [==============================] - 0s 1ms/step - loss: 0.3923 - val_loss: 0.3680\n",
            "Epoch 59/100\n",
            "363/363 [==============================] - 1s 1ms/step - loss: 0.3881 - val_loss: 0.3672\n",
            "Epoch 60/100\n",
            "363/363 [==============================] - 1s 1ms/step - loss: 0.3683 - val_loss: 0.3685\n",
            "Epoch 61/100\n",
            "363/363 [==============================] - 1s 1ms/step - loss: 0.3771 - val_loss: 0.3669\n",
            "Epoch 62/100\n",
            "363/363 [==============================] - 1s 1ms/step - loss: 0.3827 - val_loss: 0.3657\n",
            "Epoch 63/100\n",
            "363/363 [==============================] - 1s 1ms/step - loss: 0.3752 - val_loss: 0.3638\n",
            "Epoch 64/100\n",
            "363/363 [==============================] - 1s 1ms/step - loss: 0.3809 - val_loss: 0.3625\n",
            "Epoch 65/100\n",
            "363/363 [==============================] - 1s 1ms/step - loss: 0.3732 - val_loss: 0.3609\n",
            "Epoch 66/100\n",
            "363/363 [==============================] - 0s 1ms/step - loss: 0.3887 - val_loss: 0.3597\n",
            "Epoch 67/100\n",
            "363/363 [==============================] - 0s 1ms/step - loss: 0.3731 - val_loss: 0.3603\n",
            "Epoch 68/100\n",
            "363/363 [==============================] - 1s 1ms/step - loss: 0.3730 - val_loss: 0.3585\n",
            "Epoch 69/100\n",
            "363/363 [==============================] - 1s 1ms/step - loss: 0.3758 - val_loss: 0.3590\n",
            "Epoch 70/100\n",
            "363/363 [==============================] - 1s 1ms/step - loss: 0.3830 - val_loss: 0.3561\n",
            "Epoch 71/100\n",
            "363/363 [==============================] - 1s 1ms/step - loss: 0.3777 - val_loss: 0.3577\n",
            "Epoch 72/100\n",
            "363/363 [==============================] - 1s 1ms/step - loss: 0.3548 - val_loss: 0.3560\n",
            "Epoch 73/100\n",
            "363/363 [==============================] - 1s 1ms/step - loss: 0.3790 - val_loss: 0.3538\n",
            "Epoch 74/100\n",
            "363/363 [==============================] - 0s 1ms/step - loss: 0.3625 - val_loss: 0.3536\n",
            "Epoch 75/100\n",
            "363/363 [==============================] - 0s 1ms/step - loss: 0.3638 - val_loss: 0.3550\n",
            "Epoch 76/100\n",
            "363/363 [==============================] - 0s 1ms/step - loss: 0.3653 - val_loss: 0.3527\n",
            "Epoch 77/100\n",
            "363/363 [==============================] - 0s 1ms/step - loss: 0.3829 - val_loss: 0.3528\n",
            "Epoch 78/100\n",
            "363/363 [==============================] - 0s 1ms/step - loss: 0.3588 - val_loss: 0.3525\n",
            "Epoch 79/100\n",
            "363/363 [==============================] - 0s 1ms/step - loss: 0.3653 - val_loss: 0.3513\n",
            "Epoch 80/100\n",
            "363/363 [==============================] - 0s 1ms/step - loss: 0.3697 - val_loss: 0.3536\n",
            "Epoch 81/100\n",
            "363/363 [==============================] - 1s 1ms/step - loss: 0.3672 - val_loss: 0.3490\n",
            "Epoch 82/100\n",
            "363/363 [==============================] - 0s 1ms/step - loss: 0.3633 - val_loss: 0.3500\n",
            "Epoch 83/100\n",
            "363/363 [==============================] - 0s 1ms/step - loss: 0.3573 - val_loss: 0.3471\n",
            "Epoch 84/100\n",
            "363/363 [==============================] - 0s 1ms/step - loss: 0.3755 - val_loss: 0.3473\n",
            "Epoch 85/100\n",
            "363/363 [==============================] - 1s 1ms/step - loss: 0.3494 - val_loss: 0.3464\n",
            "Epoch 86/100\n",
            "363/363 [==============================] - 0s 1ms/step - loss: 0.3653 - val_loss: 0.3470\n",
            "Epoch 87/100\n",
            "363/363 [==============================] - 1s 1ms/step - loss: 0.3609 - val_loss: 0.3459\n",
            "Epoch 88/100\n",
            "363/363 [==============================] - 0s 1ms/step - loss: 0.3717 - val_loss: 0.3438\n",
            "Epoch 89/100\n",
            "363/363 [==============================] - 0s 1ms/step - loss: 0.3460 - val_loss: 0.3432\n",
            "Epoch 90/100\n",
            "363/363 [==============================] - 1s 1ms/step - loss: 0.3559 - val_loss: 0.3441\n",
            "Epoch 91/100\n",
            "363/363 [==============================] - 0s 1ms/step - loss: 0.3572 - val_loss: 0.3434\n",
            "Epoch 92/100\n",
            "363/363 [==============================] - 0s 1ms/step - loss: 0.3552 - val_loss: 0.3416\n",
            "Epoch 93/100\n",
            "363/363 [==============================] - 1s 1ms/step - loss: 0.3607 - val_loss: 0.3431\n",
            "Epoch 94/100\n",
            "363/363 [==============================] - 0s 1ms/step - loss: 0.3488 - val_loss: 0.3424\n",
            "Epoch 95/100\n",
            "363/363 [==============================] - 1s 1ms/step - loss: 0.3602 - val_loss: 0.3398\n",
            "Epoch 96/100\n",
            "363/363 [==============================] - 1s 1ms/step - loss: 0.3626 - val_loss: 0.3385\n",
            "Epoch 97/100\n",
            "363/363 [==============================] - 1s 1ms/step - loss: 0.3634 - val_loss: 0.3405\n",
            "Epoch 98/100\n",
            "363/363 [==============================] - 0s 1ms/step - loss: 0.3526 - val_loss: 0.3375\n",
            "Epoch 99/100\n",
            "363/363 [==============================] - 1s 1ms/step - loss: 0.3525 - val_loss: 0.3385\n",
            "Epoch 100/100\n",
            "363/363 [==============================] - 0s 1ms/step - loss: 0.3555 - val_loss: 0.3382\n"
          ],
          "name": "stdout"
        },
        {
          "output_type": "execute_result",
          "data": {
            "text/plain": [
              "<tensorflow.python.keras.callbacks.History at 0x7ff189db2f50>"
            ]
          },
          "metadata": {
            "tags": []
          },
          "execution_count": 159
        }
      ]
    },
    {
      "cell_type": "code",
      "metadata": {
        "colab": {
          "base_uri": "https://localhost:8080/"
        },
        "id": "2wojVVi27D48",
        "outputId": "d94ba4a1-39f8-47fe-ea2e-520651ee9f49"
      },
      "source": [
        "mse_test=keras_reg.score(X_test_scaled,y_test)"
      ],
      "execution_count": 160,
      "outputs": [
        {
          "output_type": "stream",
          "text": [
            "162/162 [==============================] - 0s 922us/step - loss: 0.3817\n"
          ],
          "name": "stdout"
        }
      ]
    },
    {
      "cell_type": "code",
      "metadata": {
        "id": "kgCovSa_7jvd"
      },
      "source": [
        "##WE DO NOT WANT TO TRAIN A SINGLE MODEL..we wanna train variants...and find the best of the all\n",
        "##ENTER...Randomized SearchCV\n",
        "\n",
        "from scipy.stats import reciprocal\n",
        "from sklearn.model_selection import RandomizedSearchCV\n",
        "\n",
        "params_distribs={\n",
        "    \"n_hidden\":[0,1,2,3],\n",
        "    \"n_neurons\":np.arange(1,100),\n",
        "    \"learning_rate\":reciprocal(3e-4,3e-2)\n",
        "}\n",
        "\n",
        "rnd_search_cv=RandomizedSearchCV(keras_reg,params_distribs,n_iter=10,cv=3)\n",
        "rnd_search_cv.fit(X_train_scaled,y_train,epochs=100,validation_data=(X_valid_scaled,y_valid))"
      ],
      "execution_count": null,
      "outputs": []
    },
    {
      "cell_type": "code",
      "metadata": {
        "id": "Ku4DDh8e81xI"
      },
      "source": [
        "rnd_search_cv.best_params_"
      ],
      "execution_count": null,
      "outputs": []
    },
    {
      "cell_type": "code",
      "metadata": {
        "id": "PxCocjoa9C9i"
      },
      "source": [
        "rnd_search_cv.best_score_"
      ],
      "execution_count": null,
      "outputs": []
    },
    {
      "cell_type": "code",
      "metadata": {
        "id": "N-8c48pC9z_v"
      },
      "source": [
        "best_model=rnd_search_cv.best_estimator_.model"
      ],
      "execution_count": null,
      "outputs": []
    }
  ]
}