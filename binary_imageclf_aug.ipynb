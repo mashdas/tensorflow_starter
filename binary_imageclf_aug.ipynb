{
  "nbformat": 4,
  "nbformat_minor": 0,
  "metadata": {
    "colab": {
      "name": "binary_imageclf_aug.ipynb",
      "provenance": [],
      "collapsed_sections": [],
      "authorship_tag": "ABX9TyOMlV5MPWcwVXlHmMNFQsoL"
    },
    "kernelspec": {
      "name": "python3",
      "display_name": "Python 3"
    },
    "language_info": {
      "name": "python"
    }
  },
  "cells": [
    {
      "cell_type": "markdown",
      "metadata": {
        "id": "mAmNPmdDuppo"
      },
      "source": [
        "#Imports"
      ]
    },
    {
      "cell_type": "code",
      "metadata": {
        "id": "zzvbDU6SurpH"
      },
      "source": [
        "import os\n",
        "import zipfile\n",
        "import tensorflow as tf\n",
        "from tensorflow.keras.optimizers import RMSprop\n",
        "from tensorflow.keras.preprocessing.image import ImageDataGenerator\n",
        "from tensorflow.keras.layers import Dense,Flatten,MaxPooling2D,Conv2D\n",
        "from tensorflow.keras.models import Sequential"
      ],
      "execution_count": 6,
      "outputs": []
    },
    {
      "cell_type": "code",
      "metadata": {
        "id": "J0bhzrJlu2mh"
      },
      "source": [
        ""
      ],
      "execution_count": null,
      "outputs": []
    },
    {
      "cell_type": "markdown",
      "metadata": {
        "id": "D7_06wmJwBgE"
      },
      "source": [
        "#Fetching and Moving data"
      ]
    },
    {
      "cell_type": "code",
      "metadata": {
        "colab": {
          "base_uri": "https://localhost:8080/"
        },
        "id": "mb1m-dfEwE1-",
        "outputId": "b17346e3-7a35-4667-8b7b-5df0743212cd"
      },
      "source": [
        "!wget --no-check-certificate \\\n",
        "    https://storage.googleapis.com/mledu-datasets/cats_and_dogs_filtered.zip \\\n",
        "    -O /tmp/cats_and_dogs_filtered.zip\n",
        "\n",
        "\n",
        "local_zip = '/tmp/cats_and_dogs_filtered.zip'\n",
        "zip_ref = zipfile.ZipFile(local_zip, 'r')\n",
        "zip_ref.extractall('/tmp')\n",
        "zip_ref.close()\n",
        "\n",
        "base_dir = '/tmp/cats_and_dogs_filtered'\n",
        "train_dir = os.path.join(base_dir, 'train')\n",
        "validation_dir = os.path.join(base_dir, 'validation')\n",
        "\n",
        "# Directory with our training cat pictures\n",
        "train_cats_dir = os.path.join(train_dir, 'cats')\n",
        "\n",
        "# Directory with our training dog pictures\n",
        "train_dogs_dir = os.path.join(train_dir, 'dogs')\n",
        "\n",
        "# Directory with our validation cat pictures\n",
        "validation_cats_dir = os.path.join(validation_dir, 'cats')\n",
        "\n",
        "# Directory with our validation dog pictures\n",
        "validation_dogs_dir = os.path.join(validation_dir, 'dogs')"
      ],
      "execution_count": 3,
      "outputs": [
        {
          "output_type": "stream",
          "text": [
            "--2021-03-21 07:47:21--  https://storage.googleapis.com/mledu-datasets/cats_and_dogs_filtered.zip\n",
            "Resolving storage.googleapis.com (storage.googleapis.com)... 74.125.142.128, 74.125.195.128, 2607:f8b0:400e:c07::80, ...\n",
            "Connecting to storage.googleapis.com (storage.googleapis.com)|74.125.142.128|:443... connected.\n",
            "HTTP request sent, awaiting response... 200 OK\n",
            "Length: 68606236 (65M) [application/zip]\n",
            "Saving to: ‘/tmp/cats_and_dogs_filtered.zip’\n",
            "\n",
            "/tmp/cats_and_dogs_ 100%[===================>]  65.43M   111MB/s    in 0.6s    \n",
            "\n",
            "2021-03-21 07:47:22 (111 MB/s) - ‘/tmp/cats_and_dogs_filtered.zip’ saved [68606236/68606236]\n",
            "\n"
          ],
          "name": "stdout"
        }
      ]
    },
    {
      "cell_type": "markdown",
      "metadata": {
        "id": "inZKaWwnwb3c"
      },
      "source": [
        "#Model n Stuff"
      ]
    },
    {
      "cell_type": "code",
      "metadata": {
        "id": "oi_At3aAwefn"
      },
      "source": [
        "model=Sequential([\n",
        "                  Conv2D(32,(3,3),activation='relu',input_shape=(150,150,3)),\n",
        "                  MaxPooling2D((2,2)),\n",
        "                  Conv2D(64,(3,3),activation='relu'),\n",
        "                  MaxPooling2D((2,2)),\n",
        "                  Conv2D(128,(3,3),activation='relu'),\n",
        "                  MaxPooling2D((2,2)),\n",
        "                  Conv2D(128,(3,3),activation='relu'),\n",
        "                  MaxPooling2D((2,2)),\n",
        "                  Flatten(),\n",
        "                  Dense(512,activation='relu'),\n",
        "                  Dense(1,activation='sigmoid')\n",
        "\n",
        "\n",
        "])\n",
        "\n",
        "model.compile(loss='binary_crossentropy',optimizer=RMSprop(lr=0.0001),metrics=['accuracy',tf.keras.metrics.AUC()])"
      ],
      "execution_count": 7,
      "outputs": []
    },
    {
      "cell_type": "markdown",
      "metadata": {
        "id": "EESi8ysmx4p6"
      },
      "source": [
        "# Data Genreators with Augmentations"
      ]
    },
    {
      "cell_type": "code",
      "metadata": {
        "colab": {
          "base_uri": "https://localhost:8080/"
        },
        "id": "w_wTM0TJx8_N",
        "outputId": "0a5b8969-8f2a-4306-b2d9-e9bc25e39a2c"
      },
      "source": [
        "train_data_generator=ImageDataGenerator(rescale=1/255,horizontal_flip=True,rotation_range=40,width_shift_range=0.2,height_shift_range=0.2,\n",
        "                                        shear_range=0.2,zoom_range=0.2,fill_mode='nearest')\n",
        "\n",
        "test_data_generator=ImageDataGenerator(rescale=1/255)\n",
        "\n",
        "train_generator=train_data_generator.flow_from_directory(train_dir,target_size=(150,150),batch_size=20,class_mode='binary')\n",
        "\n",
        "validation_generator=test_data_generator.flow_from_directory(validation_dir,target_size=(150,150),batch_size=20,class_mode='binary')\n"
      ],
      "execution_count": 8,
      "outputs": [
        {
          "output_type": "stream",
          "text": [
            "Found 2000 images belonging to 2 classes.\n",
            "Found 1000 images belonging to 2 classes.\n"
          ],
          "name": "stdout"
        }
      ]
    },
    {
      "cell_type": "markdown",
      "metadata": {
        "id": "k8XBLlKW00sx"
      },
      "source": [
        "#Callbacks"
      ]
    },
    {
      "cell_type": "code",
      "metadata": {
        "id": "OPmarxOX04SO"
      },
      "source": [
        "class myCallback(tf.keras.callbacks.Callback):\n",
        "  def on_epoch_end(self,epoch,logs={}):\n",
        "    if(logs.get('accuracy')>0.7):\n",
        "      print(\"\\n thats enough!!\")\n",
        "      self.model.stop_training=True\n",
        "\n",
        "callbacks=myCallback()"
      ],
      "execution_count": 9,
      "outputs": []
    },
    {
      "cell_type": "markdown",
      "metadata": {
        "id": "Hd9GvsdD3Euw"
      },
      "source": [
        "#Training"
      ]
    },
    {
      "cell_type": "code",
      "metadata": {
        "colab": {
          "base_uri": "https://localhost:8080/"
        },
        "id": "3CStTdCb3HH8",
        "outputId": "8d33df76-39da-4ded-e87e-7be62a17fe9e"
      },
      "source": [
        "history = model.fit(\n",
        "      train_generator,\n",
        "      steps_per_epoch=100,  # 2000 images = batch_size * steps\n",
        "      epochs=100,\n",
        "      validation_data=validation_generator,\n",
        "      validation_steps=50,  # 1000 images = batch_size * steps\n",
        "      verbose=2,\n",
        "      callbacks=[callbacks])"
      ],
      "execution_count": 13,
      "outputs": [
        {
          "output_type": "stream",
          "text": [
            "Epoch 1/100\n",
            "100/100 - 105s - loss: 0.6304 - accuracy: 0.6400 - auc: 0.6970 - val_loss: 0.6477 - val_accuracy: 0.6210 - val_auc: 0.7539\n",
            "Epoch 2/100\n",
            "100/100 - 105s - loss: 0.6155 - accuracy: 0.6735 - auc: 0.7215 - val_loss: 0.5657 - val_accuracy: 0.7200 - val_auc: 0.7915\n",
            "Epoch 3/100\n",
            "100/100 - 105s - loss: 0.6165 - accuracy: 0.6655 - auc: 0.7192 - val_loss: 0.5801 - val_accuracy: 0.6830 - val_auc: 0.7999\n",
            "Epoch 4/100\n",
            "100/100 - 105s - loss: 0.5925 - accuracy: 0.6870 - auc: 0.7477 - val_loss: 0.5546 - val_accuracy: 0.7080 - val_auc: 0.7961\n",
            "Epoch 5/100\n",
            "100/100 - 105s - loss: 0.5876 - accuracy: 0.6925 - auc: 0.7579 - val_loss: 0.5372 - val_accuracy: 0.7260 - val_auc: 0.8050\n",
            "Epoch 6/100\n",
            "100/100 - 104s - loss: 0.5836 - accuracy: 0.6930 - auc: 0.7553 - val_loss: 0.5493 - val_accuracy: 0.7170 - val_auc: 0.8007\n",
            "Epoch 7/100\n",
            "100/100 - 104s - loss: 0.5835 - accuracy: 0.6940 - auc: 0.7547 - val_loss: 0.5364 - val_accuracy: 0.7210 - val_auc: 0.8125\n",
            "Epoch 8/100\n",
            "100/100 - 104s - loss: 0.5776 - accuracy: 0.6835 - auc: 0.7617 - val_loss: 0.5333 - val_accuracy: 0.7370 - val_auc: 0.8111\n",
            "Epoch 9/100\n",
            "100/100 - 105s - loss: 0.5677 - accuracy: 0.6955 - auc: 0.7722 - val_loss: 0.5210 - val_accuracy: 0.7310 - val_auc: 0.8205\n",
            "Epoch 10/100\n",
            "100/100 - 105s - loss: 0.5674 - accuracy: 0.6985 - auc: 0.7728 - val_loss: 0.5132 - val_accuracy: 0.7480 - val_auc: 0.8314\n",
            "Epoch 11/100\n",
            "100/100 - 104s - loss: 0.5499 - accuracy: 0.7315 - auc: 0.7950 - val_loss: 0.5267 - val_accuracy: 0.7190 - val_auc: 0.8207\n",
            "\n",
            " thats enough!!\n"
          ],
          "name": "stdout"
        }
      ]
    },
    {
      "cell_type": "code",
      "metadata": {
        "id": "mmZjwQZJ3flC"
      },
      "source": [
        ""
      ],
      "execution_count": null,
      "outputs": []
    },
    {
      "cell_type": "markdown",
      "metadata": {
        "id": "qI9sh1XlAu1D"
      },
      "source": [
        "#Training Visualization"
      ]
    },
    {
      "cell_type": "code",
      "metadata": {
        "colab": {
          "base_uri": "https://localhost:8080/",
          "height": 545
        },
        "id": "2we5RAN0AyF6",
        "outputId": "7139e384-85c9-4fed-d553-c49fd13c70af"
      },
      "source": [
        "import matplotlib.pyplot as plt\n",
        "acc = history.history['accuracy']\n",
        "val_acc = history.history['val_accuracy']\n",
        "loss = history.history['loss']\n",
        "val_loss = history.history['val_loss']\n",
        "\n",
        "epochs = range(len(acc))\n",
        "\n",
        "plt.plot(epochs, acc, 'bo', label='Training accuracy')\n",
        "plt.plot(epochs, val_acc, 'b', label='Validation accuracy')\n",
        "plt.title('Training and validation accuracy')\n",
        "\n",
        "plt.figure()\n",
        "\n",
        "plt.plot(epochs, loss, 'bo', label='Training Loss')\n",
        "plt.plot(epochs, val_loss, 'b', label='Validation Loss')\n",
        "plt.title('Training and validation loss')\n",
        "plt.legend()\n",
        "\n",
        "plt.show()"
      ],
      "execution_count": 14,
      "outputs": [
        {
          "output_type": "display_data",
          "data": {
            "image/png": "[encoded data removed]",
            "text/plain": [
              "<Figure size 432x288 with 1 Axes>"
            ]
          },
          "metadata": {
            "tags": [],
            "needs_background": "light"
          }
        },
        {
          "output_type": "display_data",
          "data": {
            "image/png": "[encoded data removed]",
            "text/plain": [
              "<Figure size 432x288 with 1 Axes>"
            ]
          },
          "metadata": {
            "tags": [],
            "needs_background": "light"
          }
        }
      ]
    },
    {
      "cell_type": "code",
      "metadata": {
        "id": "5B3zfDUPAyvU"
      },
      "source": [
        ""
      ],
      "execution_count": null,
      "outputs": []
    }
  ]
}